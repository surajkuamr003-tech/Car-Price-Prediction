{
 "cells": [
  {
   "cell_type": "code",
   "execution_count": 1,
   "id": "21e36a08",
   "metadata": {
    "papermill": {
     "duration": 1.742452,
     "end_time": "2025-06-09T04:58:52.512238",
     "exception": false,
     "start_time": "2025-06-09T04:58:50.769786",
     "status": "completed"
    },
    "tags": []
   },
   "outputs": [],
   "source": [
    "import numpy as np \n",
    "import pandas as pd \n",
    "import seaborn as sns \n",
    "import matplotlib.pyplot as plt \n",
    "import warnings \n",
    "warnings.filterwarnings('ignore')"
   ]
  },
  {
   "cell_type": "code",
   "execution_count": 5,
   "id": "a46507fc",
   "metadata": {
    "papermill": {
     "duration": 0.06074,
     "end_time": "2025-06-09T04:58:52.579933",
     "exception": false,
     "start_time": "2025-06-09T04:58:52.519193",
     "status": "completed"
    },
    "tags": []
   },
   "outputs": [],
   "source": [
    "df = pd.read_csv(\"ford.csv\")"
   ]
  },
  {
   "cell_type": "code",
   "execution_count": 6,
   "id": "299fbfea",
   "metadata": {},
   "outputs": [
    {
     "data": {
      "text/html": [
       "<div>\n",
       "<style scoped>\n",
       "    .dataframe tbody tr th:only-of-type {\n",
       "        vertical-align: middle;\n",
       "    }\n",
       "\n",
       "    .dataframe tbody tr th {\n",
       "        vertical-align: top;\n",
       "    }\n",
       "\n",
       "    .dataframe thead th {\n",
       "        text-align: right;\n",
       "    }\n",
       "</style>\n",
       "<table border=\"1\" class=\"dataframe\">\n",
       "  <thead>\n",
       "    <tr style=\"text-align: right;\">\n",
       "      <th></th>\n",
       "      <th>model</th>\n",
       "      <th>year</th>\n",
       "      <th>price</th>\n",
       "      <th>transmission</th>\n",
       "      <th>mileage</th>\n",
       "      <th>fuelType</th>\n",
       "      <th>tax</th>\n",
       "      <th>mpg</th>\n",
       "      <th>engineSize</th>\n",
       "    </tr>\n",
       "  </thead>\n",
       "  <tbody>\n",
       "    <tr>\n",
       "      <th>0</th>\n",
       "      <td>Fiesta</td>\n",
       "      <td>2017</td>\n",
       "      <td>12000</td>\n",
       "      <td>Automatic</td>\n",
       "      <td>15944</td>\n",
       "      <td>Petrol</td>\n",
       "      <td>150</td>\n",
       "      <td>57.7</td>\n",
       "      <td>1.0</td>\n",
       "    </tr>\n",
       "    <tr>\n",
       "      <th>1</th>\n",
       "      <td>Focus</td>\n",
       "      <td>2018</td>\n",
       "      <td>14000</td>\n",
       "      <td>Manual</td>\n",
       "      <td>9083</td>\n",
       "      <td>Petrol</td>\n",
       "      <td>150</td>\n",
       "      <td>57.7</td>\n",
       "      <td>1.0</td>\n",
       "    </tr>\n",
       "    <tr>\n",
       "      <th>2</th>\n",
       "      <td>Focus</td>\n",
       "      <td>2017</td>\n",
       "      <td>13000</td>\n",
       "      <td>Manual</td>\n",
       "      <td>12456</td>\n",
       "      <td>Petrol</td>\n",
       "      <td>150</td>\n",
       "      <td>57.7</td>\n",
       "      <td>1.0</td>\n",
       "    </tr>\n",
       "    <tr>\n",
       "      <th>3</th>\n",
       "      <td>Fiesta</td>\n",
       "      <td>2019</td>\n",
       "      <td>17500</td>\n",
       "      <td>Manual</td>\n",
       "      <td>10460</td>\n",
       "      <td>Petrol</td>\n",
       "      <td>145</td>\n",
       "      <td>40.3</td>\n",
       "      <td>1.5</td>\n",
       "    </tr>\n",
       "    <tr>\n",
       "      <th>4</th>\n",
       "      <td>Fiesta</td>\n",
       "      <td>2019</td>\n",
       "      <td>16500</td>\n",
       "      <td>Automatic</td>\n",
       "      <td>1482</td>\n",
       "      <td>Petrol</td>\n",
       "      <td>145</td>\n",
       "      <td>48.7</td>\n",
       "      <td>1.0</td>\n",
       "    </tr>\n",
       "    <tr>\n",
       "      <th>...</th>\n",
       "      <td>...</td>\n",
       "      <td>...</td>\n",
       "      <td>...</td>\n",
       "      <td>...</td>\n",
       "      <td>...</td>\n",
       "      <td>...</td>\n",
       "      <td>...</td>\n",
       "      <td>...</td>\n",
       "      <td>...</td>\n",
       "    </tr>\n",
       "    <tr>\n",
       "      <th>17961</th>\n",
       "      <td>B-MAX</td>\n",
       "      <td>2017</td>\n",
       "      <td>8999</td>\n",
       "      <td>Manual</td>\n",
       "      <td>16700</td>\n",
       "      <td>Petrol</td>\n",
       "      <td>150</td>\n",
       "      <td>47.1</td>\n",
       "      <td>1.4</td>\n",
       "    </tr>\n",
       "    <tr>\n",
       "      <th>17962</th>\n",
       "      <td>B-MAX</td>\n",
       "      <td>2014</td>\n",
       "      <td>7499</td>\n",
       "      <td>Manual</td>\n",
       "      <td>40700</td>\n",
       "      <td>Petrol</td>\n",
       "      <td>30</td>\n",
       "      <td>57.7</td>\n",
       "      <td>1.0</td>\n",
       "    </tr>\n",
       "    <tr>\n",
       "      <th>17963</th>\n",
       "      <td>Focus</td>\n",
       "      <td>2015</td>\n",
       "      <td>9999</td>\n",
       "      <td>Manual</td>\n",
       "      <td>7010</td>\n",
       "      <td>Diesel</td>\n",
       "      <td>20</td>\n",
       "      <td>67.3</td>\n",
       "      <td>1.6</td>\n",
       "    </tr>\n",
       "    <tr>\n",
       "      <th>17964</th>\n",
       "      <td>KA</td>\n",
       "      <td>2018</td>\n",
       "      <td>8299</td>\n",
       "      <td>Manual</td>\n",
       "      <td>5007</td>\n",
       "      <td>Petrol</td>\n",
       "      <td>145</td>\n",
       "      <td>57.7</td>\n",
       "      <td>1.2</td>\n",
       "    </tr>\n",
       "    <tr>\n",
       "      <th>17965</th>\n",
       "      <td>Focus</td>\n",
       "      <td>2015</td>\n",
       "      <td>8299</td>\n",
       "      <td>Manual</td>\n",
       "      <td>5007</td>\n",
       "      <td>Petrol</td>\n",
       "      <td>22</td>\n",
       "      <td>57.7</td>\n",
       "      <td>1.0</td>\n",
       "    </tr>\n",
       "  </tbody>\n",
       "</table>\n",
       "<p>17966 rows × 9 columns</p>\n",
       "</div>"
      ],
      "text/plain": [
       "         model  year  price transmission  mileage fuelType  tax   mpg  \\\n",
       "0       Fiesta  2017  12000    Automatic    15944   Petrol  150  57.7   \n",
       "1        Focus  2018  14000       Manual     9083   Petrol  150  57.7   \n",
       "2        Focus  2017  13000       Manual    12456   Petrol  150  57.7   \n",
       "3       Fiesta  2019  17500       Manual    10460   Petrol  145  40.3   \n",
       "4       Fiesta  2019  16500    Automatic     1482   Petrol  145  48.7   \n",
       "...        ...   ...    ...          ...      ...      ...  ...   ...   \n",
       "17961    B-MAX  2017   8999       Manual    16700   Petrol  150  47.1   \n",
       "17962    B-MAX  2014   7499       Manual    40700   Petrol   30  57.7   \n",
       "17963    Focus  2015   9999       Manual     7010   Diesel   20  67.3   \n",
       "17964       KA  2018   8299       Manual     5007   Petrol  145  57.7   \n",
       "17965    Focus  2015   8299       Manual     5007   Petrol   22  57.7   \n",
       "\n",
       "       engineSize  \n",
       "0             1.0  \n",
       "1             1.0  \n",
       "2             1.0  \n",
       "3             1.5  \n",
       "4             1.0  \n",
       "...           ...  \n",
       "17961         1.4  \n",
       "17962         1.0  \n",
       "17963         1.6  \n",
       "17964         1.2  \n",
       "17965         1.0  \n",
       "\n",
       "[17966 rows x 9 columns]"
      ]
     },
     "execution_count": 6,
     "metadata": {},
     "output_type": "execute_result"
    }
   ],
   "source": [
    "df"
   ]
  },
  {
   "cell_type": "code",
   "execution_count": 7,
   "id": "ac014ea4",
   "metadata": {
    "papermill": {
     "duration": 0.034371,
     "end_time": "2025-06-09T04:58:52.621305",
     "exception": false,
     "start_time": "2025-06-09T04:58:52.586934",
     "status": "completed"
    },
    "tags": []
   },
   "outputs": [
    {
     "data": {
      "text/html": [
       "<div>\n",
       "<style scoped>\n",
       "    .dataframe tbody tr th:only-of-type {\n",
       "        vertical-align: middle;\n",
       "    }\n",
       "\n",
       "    .dataframe tbody tr th {\n",
       "        vertical-align: top;\n",
       "    }\n",
       "\n",
       "    .dataframe thead th {\n",
       "        text-align: right;\n",
       "    }\n",
       "</style>\n",
       "<table border=\"1\" class=\"dataframe\">\n",
       "  <thead>\n",
       "    <tr style=\"text-align: right;\">\n",
       "      <th></th>\n",
       "      <th>model</th>\n",
       "      <th>year</th>\n",
       "      <th>price</th>\n",
       "      <th>transmission</th>\n",
       "      <th>mileage</th>\n",
       "      <th>fuelType</th>\n",
       "      <th>tax</th>\n",
       "      <th>mpg</th>\n",
       "      <th>engineSize</th>\n",
       "    </tr>\n",
       "  </thead>\n",
       "  <tbody>\n",
       "    <tr>\n",
       "      <th>0</th>\n",
       "      <td>Fiesta</td>\n",
       "      <td>2017</td>\n",
       "      <td>12000</td>\n",
       "      <td>Automatic</td>\n",
       "      <td>15944</td>\n",
       "      <td>Petrol</td>\n",
       "      <td>150</td>\n",
       "      <td>57.7</td>\n",
       "      <td>1.0</td>\n",
       "    </tr>\n",
       "    <tr>\n",
       "      <th>1</th>\n",
       "      <td>Focus</td>\n",
       "      <td>2018</td>\n",
       "      <td>14000</td>\n",
       "      <td>Manual</td>\n",
       "      <td>9083</td>\n",
       "      <td>Petrol</td>\n",
       "      <td>150</td>\n",
       "      <td>57.7</td>\n",
       "      <td>1.0</td>\n",
       "    </tr>\n",
       "    <tr>\n",
       "      <th>2</th>\n",
       "      <td>Focus</td>\n",
       "      <td>2017</td>\n",
       "      <td>13000</td>\n",
       "      <td>Manual</td>\n",
       "      <td>12456</td>\n",
       "      <td>Petrol</td>\n",
       "      <td>150</td>\n",
       "      <td>57.7</td>\n",
       "      <td>1.0</td>\n",
       "    </tr>\n",
       "    <tr>\n",
       "      <th>3</th>\n",
       "      <td>Fiesta</td>\n",
       "      <td>2019</td>\n",
       "      <td>17500</td>\n",
       "      <td>Manual</td>\n",
       "      <td>10460</td>\n",
       "      <td>Petrol</td>\n",
       "      <td>145</td>\n",
       "      <td>40.3</td>\n",
       "      <td>1.5</td>\n",
       "    </tr>\n",
       "    <tr>\n",
       "      <th>4</th>\n",
       "      <td>Fiesta</td>\n",
       "      <td>2019</td>\n",
       "      <td>16500</td>\n",
       "      <td>Automatic</td>\n",
       "      <td>1482</td>\n",
       "      <td>Petrol</td>\n",
       "      <td>145</td>\n",
       "      <td>48.7</td>\n",
       "      <td>1.0</td>\n",
       "    </tr>\n",
       "  </tbody>\n",
       "</table>\n",
       "</div>"
      ],
      "text/plain": [
       "     model  year  price transmission  mileage fuelType  tax   mpg  engineSize\n",
       "0   Fiesta  2017  12000    Automatic    15944   Petrol  150  57.7         1.0\n",
       "1    Focus  2018  14000       Manual     9083   Petrol  150  57.7         1.0\n",
       "2    Focus  2017  13000       Manual    12456   Petrol  150  57.7         1.0\n",
       "3   Fiesta  2019  17500       Manual    10460   Petrol  145  40.3         1.5\n",
       "4   Fiesta  2019  16500    Automatic     1482   Petrol  145  48.7         1.0"
      ]
     },
     "execution_count": 7,
     "metadata": {},
     "output_type": "execute_result"
    }
   ],
   "source": [
    "df.head()"
   ]
  },
  {
   "cell_type": "code",
   "execution_count": 8,
   "id": "c8b88977",
   "metadata": {
    "papermill": {
     "duration": 0.015336,
     "end_time": "2025-06-09T04:58:52.643886",
     "exception": false,
     "start_time": "2025-06-09T04:58:52.628550",
     "status": "completed"
    },
    "tags": []
   },
   "outputs": [
    {
     "data": {
      "text/plain": [
       "(17966, 9)"
      ]
     },
     "execution_count": 8,
     "metadata": {},
     "output_type": "execute_result"
    }
   ],
   "source": [
    "df.shape"
   ]
  },
  {
   "cell_type": "code",
   "execution_count": 9,
   "id": "41fd25ff",
   "metadata": {
    "papermill": {
     "duration": 0.035334,
     "end_time": "2025-06-09T04:58:52.686444",
     "exception": false,
     "start_time": "2025-06-09T04:58:52.651110",
     "status": "completed"
    },
    "tags": []
   },
   "outputs": [
    {
     "name": "stdout",
     "output_type": "stream",
     "text": [
      "<class 'pandas.core.frame.DataFrame'>\n",
      "RangeIndex: 17966 entries, 0 to 17965\n",
      "Data columns (total 9 columns):\n",
      " #   Column        Non-Null Count  Dtype  \n",
      "---  ------        --------------  -----  \n",
      " 0   model         17966 non-null  object \n",
      " 1   year          17966 non-null  int64  \n",
      " 2   price         17966 non-null  int64  \n",
      " 3   transmission  17966 non-null  object \n",
      " 4   mileage       17966 non-null  int64  \n",
      " 5   fuelType      17966 non-null  object \n",
      " 6   tax           17966 non-null  int64  \n",
      " 7   mpg           17966 non-null  float64\n",
      " 8   engineSize    17966 non-null  float64\n",
      "dtypes: float64(2), int64(4), object(3)\n",
      "memory usage: 1.2+ MB\n"
     ]
    }
   ],
   "source": [
    "df.info()"
   ]
  },
  {
   "cell_type": "code",
   "execution_count": 10,
   "id": "f1dd740a",
   "metadata": {
    "papermill": {
     "duration": 0.038533,
     "end_time": "2025-06-09T04:58:52.732236",
     "exception": false,
     "start_time": "2025-06-09T04:58:52.693703",
     "status": "completed"
    },
    "tags": []
   },
   "outputs": [
    {
     "data": {
      "text/html": [
       "<div>\n",
       "<style scoped>\n",
       "    .dataframe tbody tr th:only-of-type {\n",
       "        vertical-align: middle;\n",
       "    }\n",
       "\n",
       "    .dataframe tbody tr th {\n",
       "        vertical-align: top;\n",
       "    }\n",
       "\n",
       "    .dataframe thead th {\n",
       "        text-align: right;\n",
       "    }\n",
       "</style>\n",
       "<table border=\"1\" class=\"dataframe\">\n",
       "  <thead>\n",
       "    <tr style=\"text-align: right;\">\n",
       "      <th></th>\n",
       "      <th>year</th>\n",
       "      <th>price</th>\n",
       "      <th>mileage</th>\n",
       "      <th>tax</th>\n",
       "      <th>mpg</th>\n",
       "      <th>engineSize</th>\n",
       "    </tr>\n",
       "  </thead>\n",
       "  <tbody>\n",
       "    <tr>\n",
       "      <th>count</th>\n",
       "      <td>17966.000000</td>\n",
       "      <td>17966.000000</td>\n",
       "      <td>17966.000000</td>\n",
       "      <td>17966.000000</td>\n",
       "      <td>17966.000000</td>\n",
       "      <td>17966.000000</td>\n",
       "    </tr>\n",
       "    <tr>\n",
       "      <th>mean</th>\n",
       "      <td>2016.866470</td>\n",
       "      <td>12279.534844</td>\n",
       "      <td>23362.608761</td>\n",
       "      <td>113.329456</td>\n",
       "      <td>57.906980</td>\n",
       "      <td>1.350807</td>\n",
       "    </tr>\n",
       "    <tr>\n",
       "      <th>std</th>\n",
       "      <td>2.050336</td>\n",
       "      <td>4741.343657</td>\n",
       "      <td>19472.054349</td>\n",
       "      <td>62.012456</td>\n",
       "      <td>10.125696</td>\n",
       "      <td>0.432367</td>\n",
       "    </tr>\n",
       "    <tr>\n",
       "      <th>min</th>\n",
       "      <td>1996.000000</td>\n",
       "      <td>495.000000</td>\n",
       "      <td>1.000000</td>\n",
       "      <td>0.000000</td>\n",
       "      <td>20.800000</td>\n",
       "      <td>0.000000</td>\n",
       "    </tr>\n",
       "    <tr>\n",
       "      <th>25%</th>\n",
       "      <td>2016.000000</td>\n",
       "      <td>8999.000000</td>\n",
       "      <td>9987.000000</td>\n",
       "      <td>30.000000</td>\n",
       "      <td>52.300000</td>\n",
       "      <td>1.000000</td>\n",
       "    </tr>\n",
       "    <tr>\n",
       "      <th>50%</th>\n",
       "      <td>2017.000000</td>\n",
       "      <td>11291.000000</td>\n",
       "      <td>18242.500000</td>\n",
       "      <td>145.000000</td>\n",
       "      <td>58.900000</td>\n",
       "      <td>1.200000</td>\n",
       "    </tr>\n",
       "    <tr>\n",
       "      <th>75%</th>\n",
       "      <td>2018.000000</td>\n",
       "      <td>15299.000000</td>\n",
       "      <td>31060.000000</td>\n",
       "      <td>145.000000</td>\n",
       "      <td>65.700000</td>\n",
       "      <td>1.500000</td>\n",
       "    </tr>\n",
       "    <tr>\n",
       "      <th>max</th>\n",
       "      <td>2060.000000</td>\n",
       "      <td>54995.000000</td>\n",
       "      <td>177644.000000</td>\n",
       "      <td>580.000000</td>\n",
       "      <td>201.800000</td>\n",
       "      <td>5.000000</td>\n",
       "    </tr>\n",
       "  </tbody>\n",
       "</table>\n",
       "</div>"
      ],
      "text/plain": [
       "               year         price        mileage           tax           mpg  \\\n",
       "count  17966.000000  17966.000000   17966.000000  17966.000000  17966.000000   \n",
       "mean    2016.866470  12279.534844   23362.608761    113.329456     57.906980   \n",
       "std        2.050336   4741.343657   19472.054349     62.012456     10.125696   \n",
       "min     1996.000000    495.000000       1.000000      0.000000     20.800000   \n",
       "25%     2016.000000   8999.000000    9987.000000     30.000000     52.300000   \n",
       "50%     2017.000000  11291.000000   18242.500000    145.000000     58.900000   \n",
       "75%     2018.000000  15299.000000   31060.000000    145.000000     65.700000   \n",
       "max     2060.000000  54995.000000  177644.000000    580.000000    201.800000   \n",
       "\n",
       "         engineSize  \n",
       "count  17966.000000  \n",
       "mean       1.350807  \n",
       "std        0.432367  \n",
       "min        0.000000  \n",
       "25%        1.000000  \n",
       "50%        1.200000  \n",
       "75%        1.500000  \n",
       "max        5.000000  "
      ]
     },
     "execution_count": 10,
     "metadata": {},
     "output_type": "execute_result"
    }
   ],
   "source": [
    "df.describe()"
   ]
  },
  {
   "cell_type": "code",
   "execution_count": 11,
   "id": "9e507140",
   "metadata": {
    "papermill": {
     "duration": 0.019976,
     "end_time": "2025-06-09T04:58:52.759624",
     "exception": false,
     "start_time": "2025-06-09T04:58:52.739648",
     "status": "completed"
    },
    "tags": []
   },
   "outputs": [
    {
     "data": {
      "text/plain": [
       "model           0\n",
       "year            0\n",
       "price           0\n",
       "transmission    0\n",
       "mileage         0\n",
       "fuelType        0\n",
       "tax             0\n",
       "mpg             0\n",
       "engineSize      0\n",
       "dtype: int64"
      ]
     },
     "execution_count": 11,
     "metadata": {},
     "output_type": "execute_result"
    }
   ],
   "source": [
    "df.isnull().sum()"
   ]
  },
  {
   "cell_type": "code",
   "execution_count": 12,
   "id": "709ce164",
   "metadata": {
    "papermill": {
     "duration": 0.584226,
     "end_time": "2025-06-09T04:58:53.351993",
     "exception": false,
     "start_time": "2025-06-09T04:58:52.767767",
     "status": "completed"
    },
    "tags": []
   },
   "outputs": [
    {
     "data": {
      "text/plain": [
       "<Axes: xlabel='price', ylabel='Count'>"
      ]
     },
     "execution_count": 12,
     "metadata": {},
     "output_type": "execute_result"
    },
    {
     "data": {
      "image/png": "[encoded data removed]",
      "text/plain": [
       "<Figure size 640x480 with 1 Axes>"
      ]
     },
     "metadata": {},
     "output_type": "display_data"
    }
   ],
   "source": [
    "#EDA \n",
    "sns.histplot(df['price'],bins = 50,kde = True)"
   ]
  },
  {
   "cell_type": "code",
   "execution_count": 13,
   "id": "4ab98f64",
   "metadata": {
    "papermill": {
     "duration": 0.343514,
     "end_time": "2025-06-09T04:58:53.704149",
     "exception": false,
     "start_time": "2025-06-09T04:58:53.360635",
     "status": "completed"
    },
    "tags": []
   },
   "outputs": [
    {
     "data": {
      "text/plain": [
       "<Axes: >"
      ]
     },
     "execution_count": 13,
     "metadata": {},
     "output_type": "execute_result"
    },
    {
     "data": {
      "image/png": "[encoded data removed]",
      "text/plain": [
       "<Figure size 640x480 with 2 Axes>"
      ]
     },
     "metadata": {},
     "output_type": "display_data"
    }
   ],
   "source": [
    "sns.heatmap(df.corr(numeric_only = True),annot = True)"
   ]
  },
  {
   "cell_type": "code",
   "execution_count": 14,
   "id": "880a2658",
   "metadata": {
    "papermill": {
     "duration": 0.418003,
     "end_time": "2025-06-09T04:58:54.131225",
     "exception": false,
     "start_time": "2025-06-09T04:58:53.713222",
     "status": "completed"
    },
    "tags": []
   },
   "outputs": [
    {
     "data": {
      "text/plain": [
       "([0,\n",
       "  1,\n",
       "  2,\n",
       "  3,\n",
       "  4,\n",
       "  5,\n",
       "  6,\n",
       "  7,\n",
       "  8,\n",
       "  9,\n",
       "  10,\n",
       "  11,\n",
       "  12,\n",
       "  13,\n",
       "  14,\n",
       "  15,\n",
       "  16,\n",
       "  17,\n",
       "  18,\n",
       "  19,\n",
       "  20,\n",
       "  21,\n",
       "  22],\n",
       " [Text(0, 0, '1996'),\n",
       "  Text(1, 0, '1998'),\n",
       "  Text(2, 0, '2000'),\n",
       "  Text(3, 0, '2002'),\n",
       "  Text(4, 0, '2003'),\n",
       "  Text(5, 0, '2004'),\n",
       "  Text(6, 0, '2005'),\n",
       "  Text(7, 0, '2006'),\n",
       "  Text(8, 0, '2007'),\n",
       "  Text(9, 0, '2008'),\n",
       "  Text(10, 0, '2009'),\n",
       "  Text(11, 0, '2010'),\n",
       "  Text(12, 0, '2011'),\n",
       "  Text(13, 0, '2012'),\n",
       "  Text(14, 0, '2013'),\n",
       "  Text(15, 0, '2014'),\n",
       "  Text(16, 0, '2015'),\n",
       "  Text(17, 0, '2016'),\n",
       "  Text(18, 0, '2017'),\n",
       "  Text(19, 0, '2018'),\n",
       "  Text(20, 0, '2019'),\n",
       "  Text(21, 0, '2020'),\n",
       "  Text(22, 0, '2060')])"
      ]
     },
     "execution_count": 14,
     "metadata": {},
     "output_type": "execute_result"
    },
    {
     "data": {
      "image/png": "[encoded data removed]",
      "text/plain": [
       "<Figure size 640x480 with 1 Axes>"
      ]
     },
     "metadata": {},
     "output_type": "display_data"
    }
   ],
   "source": [
    "sns.boxplot(data = df, x = 'year', y = 'price')\n",
    "plt.xticks(rotation = 90)"
   ]
  },
  {
   "cell_type": "code",
   "execution_count": 15,
   "id": "5ffd0a6c",
   "metadata": {
    "papermill": {
     "duration": 0.285853,
     "end_time": "2025-06-09T04:58:54.427085",
     "exception": false,
     "start_time": "2025-06-09T04:58:54.141232",
     "status": "completed"
    },
    "tags": []
   },
   "outputs": [
    {
     "data": {
      "text/plain": [
       "<Axes: xlabel='mileage', ylabel='price'>"
      ]
     },
     "execution_count": 15,
     "metadata": {},
     "output_type": "execute_result"
    },
    {
     "data": {
      "image/png": "[encoded data removed]",
      "text/plain": [
       "<Figure size 640x480 with 1 Axes>"
      ]
     },
     "metadata": {},
     "output_type": "display_data"
    }
   ],
   "source": [
    "sns.scatterplot(data = df, x = 'mileage',y = 'price')"
   ]
  },
  {
   "cell_type": "code",
   "execution_count": 16,
   "id": "602fe983",
   "metadata": {
    "papermill": {
     "duration": 0.320793,
     "end_time": "2025-06-09T04:58:54.759171",
     "exception": false,
     "start_time": "2025-06-09T04:58:54.438378",
     "status": "completed"
    },
    "tags": []
   },
   "outputs": [
    {
     "data": {
      "text/plain": [
       "<Axes: xlabel='engineSize', ylabel='price'>"
      ]
     },
     "execution_count": 16,
     "metadata": {},
     "output_type": "execute_result"
    },
    {
     "data": {
      "image/png": "[encoded data removed]",
      "text/plain": [
       "<Figure size 640x480 with 1 Axes>"
      ]
     },
     "metadata": {},
     "output_type": "display_data"
    }
   ],
   "source": [
    "sns.boxplot(data = df, x = 'engineSize', y = 'price')"
   ]
  },
  {
   "cell_type": "code",
   "execution_count": 17,
   "id": "c5c74873",
   "metadata": {
    "papermill": {
     "duration": 0.019629,
     "end_time": "2025-06-09T04:58:54.790734",
     "exception": false,
     "start_time": "2025-06-09T04:58:54.771105",
     "status": "completed"
    },
    "tags": []
   },
   "outputs": [
    {
     "data": {
      "text/plain": [
       "Index(['model', 'year', 'price', 'transmission', 'mileage', 'fuelType', 'tax',\n",
       "       'mpg', 'engineSize'],\n",
       "      dtype='object')"
      ]
     },
     "execution_count": 17,
     "metadata": {},
     "output_type": "execute_result"
    }
   ],
   "source": [
    "df.columns"
   ]
  },
  {
   "cell_type": "code",
   "execution_count": 18,
   "id": "78a36055",
   "metadata": {
    "papermill": {
     "duration": 0.170796,
     "end_time": "2025-06-09T04:58:54.973231",
     "exception": false,
     "start_time": "2025-06-09T04:58:54.802435",
     "status": "completed"
    },
    "tags": []
   },
   "outputs": [
    {
     "data": {
      "text/plain": [
       "<Axes: xlabel='transmission', ylabel='price'>"
      ]
     },
     "execution_count": 18,
     "metadata": {},
     "output_type": "execute_result"
    },
    {
     "data": {
      "image/png": "[encoded data removed]",
      "text/plain": [
       "<Figure size 640x480 with 1 Axes>"
      ]
     },
     "metadata": {},
     "output_type": "display_data"
    }
   ],
   "source": [
    "sns.boxplot(data = df, x = 'transmission',y = 'price')"
   ]
  },
  {
   "cell_type": "code",
   "execution_count": 19,
   "id": "8e6df3c4",
   "metadata": {
    "papermill": {
     "duration": 0.206025,
     "end_time": "2025-06-09T04:58:55.191659",
     "exception": false,
     "start_time": "2025-06-09T04:58:54.985634",
     "status": "completed"
    },
    "tags": []
   },
   "outputs": [
    {
     "data": {
      "text/plain": [
       "<Axes: xlabel='fuelType', ylabel='price'>"
      ]
     },
     "execution_count": 19,
     "metadata": {},
     "output_type": "execute_result"
    },
    {
     "data": {
      "image/png": "[encoded data removed]",
      "text/plain": [
       "<Figure size 640x480 with 1 Axes>"
      ]
     },
     "metadata": {},
     "output_type": "display_data"
    }
   ],
   "source": [
    "sns.boxplot(data = df,x = 'fuelType', y = 'price' )"
   ]
  },
  {
   "cell_type": "code",
   "execution_count": 20,
   "id": "a7ab0e49",
   "metadata": {
    "papermill": {
     "duration": 0.451554,
     "end_time": "2025-06-09T04:58:55.655805",
     "exception": false,
     "start_time": "2025-06-09T04:58:55.204251",
     "status": "completed"
    },
    "tags": []
   },
   "outputs": [
    {
     "data": {
      "text/plain": [
       "([0,\n",
       "  1,\n",
       "  2,\n",
       "  3,\n",
       "  4,\n",
       "  5,\n",
       "  6,\n",
       "  7,\n",
       "  8,\n",
       "  9,\n",
       "  10,\n",
       "  11,\n",
       "  12,\n",
       "  13,\n",
       "  14,\n",
       "  15,\n",
       "  16,\n",
       "  17,\n",
       "  18,\n",
       "  19,\n",
       "  20,\n",
       "  21,\n",
       "  22,\n",
       "  23],\n",
       " [Text(0, 0, ' Fiesta'),\n",
       "  Text(1, 0, ' Focus'),\n",
       "  Text(2, 0, ' Puma'),\n",
       "  Text(3, 0, ' Kuga'),\n",
       "  Text(4, 0, ' EcoSport'),\n",
       "  Text(5, 0, ' C-MAX'),\n",
       "  Text(6, 0, ' Mondeo'),\n",
       "  Text(7, 0, ' Ka+'),\n",
       "  Text(8, 0, ' Tourneo Custom'),\n",
       "  Text(9, 0, ' S-MAX'),\n",
       "  Text(10, 0, ' B-MAX'),\n",
       "  Text(11, 0, ' Edge'),\n",
       "  Text(12, 0, ' Tourneo Connect'),\n",
       "  Text(13, 0, ' Grand C-MAX'),\n",
       "  Text(14, 0, ' KA'),\n",
       "  Text(15, 0, ' Galaxy'),\n",
       "  Text(16, 0, ' Mustang'),\n",
       "  Text(17, 0, ' Grand Tourneo Connect'),\n",
       "  Text(18, 0, ' Fusion'),\n",
       "  Text(19, 0, ' Ranger'),\n",
       "  Text(20, 0, ' Streetka'),\n",
       "  Text(21, 0, ' Escort'),\n",
       "  Text(22, 0, ' Transit Tourneo'),\n",
       "  Text(23, 0, 'Focus')])"
      ]
     },
     "execution_count": 20,
     "metadata": {},
     "output_type": "execute_result"
    },
    {
     "data": {
      "image/png": "[encoded data removed]",
      "text/plain": [
       "<Figure size 640x480 with 1 Axes>"
      ]
     },
     "metadata": {},
     "output_type": "display_data"
    }
   ],
   "source": [
    "sns.boxplot(x = df['model'],y = df['price'])\n",
    "plt.xticks(rotation = 90)"
   ]
  },
  {
   "cell_type": "code",
   "execution_count": 21,
   "id": "eee7581f",
   "metadata": {
    "papermill": {
     "duration": 0.024148,
     "end_time": "2025-06-09T04:58:55.754132",
     "exception": false,
     "start_time": "2025-06-09T04:58:55.729984",
     "status": "completed"
    },
    "tags": []
   },
   "outputs": [],
   "source": [
    "X = df.drop(columns = ['price'],axis = 1)\n",
    "y = df['price']"
   ]
  },
  {
   "cell_type": "code",
   "execution_count": 22,
   "id": "721a55e4",
   "metadata": {
    "papermill": {
     "duration": 0.029624,
     "end_time": "2025-06-09T04:58:55.797788",
     "exception": false,
     "start_time": "2025-06-09T04:58:55.768164",
     "status": "completed"
    },
    "tags": []
   },
   "outputs": [
    {
     "data": {
      "text/html": [
       "<div>\n",
       "<style scoped>\n",
       "    .dataframe tbody tr th:only-of-type {\n",
       "        vertical-align: middle;\n",
       "    }\n",
       "\n",
       "    .dataframe tbody tr th {\n",
       "        vertical-align: top;\n",
       "    }\n",
       "\n",
       "    .dataframe thead th {\n",
       "        text-align: right;\n",
       "    }\n",
       "</style>\n",
       "<table border=\"1\" class=\"dataframe\">\n",
       "  <thead>\n",
       "    <tr style=\"text-align: right;\">\n",
       "      <th></th>\n",
       "      <th>model</th>\n",
       "      <th>year</th>\n",
       "      <th>transmission</th>\n",
       "      <th>mileage</th>\n",
       "      <th>fuelType</th>\n",
       "      <th>tax</th>\n",
       "      <th>mpg</th>\n",
       "      <th>engineSize</th>\n",
       "    </tr>\n",
       "  </thead>\n",
       "  <tbody>\n",
       "    <tr>\n",
       "      <th>0</th>\n",
       "      <td>Fiesta</td>\n",
       "      <td>2017</td>\n",
       "      <td>Automatic</td>\n",
       "      <td>15944</td>\n",
       "      <td>Petrol</td>\n",
       "      <td>150</td>\n",
       "      <td>57.7</td>\n",
       "      <td>1.0</td>\n",
       "    </tr>\n",
       "    <tr>\n",
       "      <th>1</th>\n",
       "      <td>Focus</td>\n",
       "      <td>2018</td>\n",
       "      <td>Manual</td>\n",
       "      <td>9083</td>\n",
       "      <td>Petrol</td>\n",
       "      <td>150</td>\n",
       "      <td>57.7</td>\n",
       "      <td>1.0</td>\n",
       "    </tr>\n",
       "    <tr>\n",
       "      <th>2</th>\n",
       "      <td>Focus</td>\n",
       "      <td>2017</td>\n",
       "      <td>Manual</td>\n",
       "      <td>12456</td>\n",
       "      <td>Petrol</td>\n",
       "      <td>150</td>\n",
       "      <td>57.7</td>\n",
       "      <td>1.0</td>\n",
       "    </tr>\n",
       "    <tr>\n",
       "      <th>3</th>\n",
       "      <td>Fiesta</td>\n",
       "      <td>2019</td>\n",
       "      <td>Manual</td>\n",
       "      <td>10460</td>\n",
       "      <td>Petrol</td>\n",
       "      <td>145</td>\n",
       "      <td>40.3</td>\n",
       "      <td>1.5</td>\n",
       "    </tr>\n",
       "    <tr>\n",
       "      <th>4</th>\n",
       "      <td>Fiesta</td>\n",
       "      <td>2019</td>\n",
       "      <td>Automatic</td>\n",
       "      <td>1482</td>\n",
       "      <td>Petrol</td>\n",
       "      <td>145</td>\n",
       "      <td>48.7</td>\n",
       "      <td>1.0</td>\n",
       "    </tr>\n",
       "    <tr>\n",
       "      <th>...</th>\n",
       "      <td>...</td>\n",
       "      <td>...</td>\n",
       "      <td>...</td>\n",
       "      <td>...</td>\n",
       "      <td>...</td>\n",
       "      <td>...</td>\n",
       "      <td>...</td>\n",
       "      <td>...</td>\n",
       "    </tr>\n",
       "    <tr>\n",
       "      <th>17961</th>\n",
       "      <td>B-MAX</td>\n",
       "      <td>2017</td>\n",
       "      <td>Manual</td>\n",
       "      <td>16700</td>\n",
       "      <td>Petrol</td>\n",
       "      <td>150</td>\n",
       "      <td>47.1</td>\n",
       "      <td>1.4</td>\n",
       "    </tr>\n",
       "    <tr>\n",
       "      <th>17962</th>\n",
       "      <td>B-MAX</td>\n",
       "      <td>2014</td>\n",
       "      <td>Manual</td>\n",
       "      <td>40700</td>\n",
       "      <td>Petrol</td>\n",
       "      <td>30</td>\n",
       "      <td>57.7</td>\n",
       "      <td>1.0</td>\n",
       "    </tr>\n",
       "    <tr>\n",
       "      <th>17963</th>\n",
       "      <td>Focus</td>\n",
       "      <td>2015</td>\n",
       "      <td>Manual</td>\n",
       "      <td>7010</td>\n",
       "      <td>Diesel</td>\n",
       "      <td>20</td>\n",
       "      <td>67.3</td>\n",
       "      <td>1.6</td>\n",
       "    </tr>\n",
       "    <tr>\n",
       "      <th>17964</th>\n",
       "      <td>KA</td>\n",
       "      <td>2018</td>\n",
       "      <td>Manual</td>\n",
       "      <td>5007</td>\n",
       "      <td>Petrol</td>\n",
       "      <td>145</td>\n",
       "      <td>57.7</td>\n",
       "      <td>1.2</td>\n",
       "    </tr>\n",
       "    <tr>\n",
       "      <th>17965</th>\n",
       "      <td>Focus</td>\n",
       "      <td>2015</td>\n",
       "      <td>Manual</td>\n",
       "      <td>5007</td>\n",
       "      <td>Petrol</td>\n",
       "      <td>22</td>\n",
       "      <td>57.7</td>\n",
       "      <td>1.0</td>\n",
       "    </tr>\n",
       "  </tbody>\n",
       "</table>\n",
       "<p>17966 rows × 8 columns</p>\n",
       "</div>"
      ],
      "text/plain": [
       "         model  year transmission  mileage fuelType  tax   mpg  engineSize\n",
       "0       Fiesta  2017    Automatic    15944   Petrol  150  57.7         1.0\n",
       "1        Focus  2018       Manual     9083   Petrol  150  57.7         1.0\n",
       "2        Focus  2017       Manual    12456   Petrol  150  57.7         1.0\n",
       "3       Fiesta  2019       Manual    10460   Petrol  145  40.3         1.5\n",
       "4       Fiesta  2019    Automatic     1482   Petrol  145  48.7         1.0\n",
       "...        ...   ...          ...      ...      ...  ...   ...         ...\n",
       "17961    B-MAX  2017       Manual    16700   Petrol  150  47.1         1.4\n",
       "17962    B-MAX  2014       Manual    40700   Petrol   30  57.7         1.0\n",
       "17963    Focus  2015       Manual     7010   Diesel   20  67.3         1.6\n",
       "17964       KA  2018       Manual     5007   Petrol  145  57.7         1.2\n",
       "17965    Focus  2015       Manual     5007   Petrol   22  57.7         1.0\n",
       "\n",
       "[17966 rows x 8 columns]"
      ]
     },
     "execution_count": 22,
     "metadata": {},
     "output_type": "execute_result"
    }
   ],
   "source": [
    "X"
   ]
  },
  {
   "cell_type": "code",
   "execution_count": 23,
   "id": "ec780ab3",
   "metadata": {
    "papermill": {
     "duration": 0.022283,
     "end_time": "2025-06-09T04:58:55.835954",
     "exception": false,
     "start_time": "2025-06-09T04:58:55.813671",
     "status": "completed"
    },
    "tags": []
   },
   "outputs": [
    {
     "data": {
      "text/plain": [
       "Index(['model', 'year', 'price', 'transmission', 'mileage', 'fuelType', 'tax',\n",
       "       'mpg', 'engineSize'],\n",
       "      dtype='object')"
      ]
     },
     "execution_count": 23,
     "metadata": {},
     "output_type": "execute_result"
    }
   ],
   "source": [
    "df.columns"
   ]
  },
  {
   "cell_type": "code",
   "execution_count": 24,
   "id": "e2cdf868",
   "metadata": {
    "papermill": {
     "duration": 0.030125,
     "end_time": "2025-06-09T04:58:55.880504",
     "exception": false,
     "start_time": "2025-06-09T04:58:55.850379",
     "status": "completed"
    },
    "tags": []
   },
   "outputs": [],
   "source": [
    "X_one_encode = pd.get_dummies(X,columns = ['model','transmission','fuelType'],drop_first = True)"
   ]
  },
  {
   "cell_type": "code",
   "execution_count": 21,
   "id": "cf7c2cb7",
   "metadata": {
    "execution": {
     "iopub.execute_input": "2025-06-09T04:58:55.910650Z",
     "iopub.status.busy": "2025-06-09T04:58:55.910330Z",
     "iopub.status.idle": "2025-06-09T04:58:55.918498Z",
     "shell.execute_reply": "2025-06-09T04:58:55.917560Z"
    },
    "papermill": {
     "duration": 0.024661,
     "end_time": "2025-06-09T04:58:55.920056",
     "exception": false,
     "start_time": "2025-06-09T04:58:55.895395",
     "status": "completed"
    },
    "tags": []
   },
   "outputs": [],
   "source": [
    "X_one_encode = X_one_encode.astype(int)"
   ]
  },
  {
   "cell_type": "code",
   "execution_count": 22,
   "id": "480876cb",
   "metadata": {
    "execution": {
     "iopub.execute_input": "2025-06-09T04:58:55.949521Z",
     "iopub.status.busy": "2025-06-09T04:58:55.949244Z",
     "iopub.status.idle": "2025-06-09T04:58:55.981327Z",
     "shell.execute_reply": "2025-06-09T04:58:55.980381Z"
    },
    "papermill": {
     "duration": 0.048416,
     "end_time": "2025-06-09T04:58:55.982691",
     "exception": false,
     "start_time": "2025-06-09T04:58:55.934275",
     "status": "completed"
    },
    "tags": []
   },
   "outputs": [
    {
     "data": {
      "text/html": [
       "<div>\n",
       "<style scoped>\n",
       "    .dataframe tbody tr th:only-of-type {\n",
       "        vertical-align: middle;\n",
       "    }\n",
       "\n",
       "    .dataframe tbody tr th {\n",
       "        vertical-align: top;\n",
       "    }\n",
       "\n",
       "    .dataframe thead th {\n",
       "        text-align: right;\n",
       "    }\n",
       "</style>\n",
       "<table border=\"1\" class=\"dataframe\">\n",
       "  <thead>\n",
       "    <tr style=\"text-align: right;\">\n",
       "      <th></th>\n",
       "      <th>year</th>\n",
       "      <th>mileage</th>\n",
       "      <th>tax</th>\n",
       "      <th>mpg</th>\n",
       "      <th>engineSize</th>\n",
       "      <th>model_ C-MAX</th>\n",
       "      <th>model_ EcoSport</th>\n",
       "      <th>model_ Edge</th>\n",
       "      <th>model_ Escort</th>\n",
       "      <th>model_ Fiesta</th>\n",
       "      <th>...</th>\n",
       "      <th>model_ Tourneo Connect</th>\n",
       "      <th>model_ Tourneo Custom</th>\n",
       "      <th>model_ Transit Tourneo</th>\n",
       "      <th>model_Focus</th>\n",
       "      <th>transmission_Manual</th>\n",
       "      <th>transmission_Semi-Auto</th>\n",
       "      <th>fuelType_Electric</th>\n",
       "      <th>fuelType_Hybrid</th>\n",
       "      <th>fuelType_Other</th>\n",
       "      <th>fuelType_Petrol</th>\n",
       "    </tr>\n",
       "  </thead>\n",
       "  <tbody>\n",
       "    <tr>\n",
       "      <th>0</th>\n",
       "      <td>2017</td>\n",
       "      <td>15944</td>\n",
       "      <td>150</td>\n",
       "      <td>57</td>\n",
       "      <td>1</td>\n",
       "      <td>0</td>\n",
       "      <td>0</td>\n",
       "      <td>0</td>\n",
       "      <td>0</td>\n",
       "      <td>1</td>\n",
       "      <td>...</td>\n",
       "      <td>0</td>\n",
       "      <td>0</td>\n",
       "      <td>0</td>\n",
       "      <td>0</td>\n",
       "      <td>0</td>\n",
       "      <td>0</td>\n",
       "      <td>0</td>\n",
       "      <td>0</td>\n",
       "      <td>0</td>\n",
       "      <td>1</td>\n",
       "    </tr>\n",
       "    <tr>\n",
       "      <th>1</th>\n",
       "      <td>2018</td>\n",
       "      <td>9083</td>\n",
       "      <td>150</td>\n",
       "      <td>57</td>\n",
       "      <td>1</td>\n",
       "      <td>0</td>\n",
       "      <td>0</td>\n",
       "      <td>0</td>\n",
       "      <td>0</td>\n",
       "      <td>0</td>\n",
       "      <td>...</td>\n",
       "      <td>0</td>\n",
       "      <td>0</td>\n",
       "      <td>0</td>\n",
       "      <td>0</td>\n",
       "      <td>1</td>\n",
       "      <td>0</td>\n",
       "      <td>0</td>\n",
       "      <td>0</td>\n",
       "      <td>0</td>\n",
       "      <td>1</td>\n",
       "    </tr>\n",
       "    <tr>\n",
       "      <th>2</th>\n",
       "      <td>2017</td>\n",
       "      <td>12456</td>\n",
       "      <td>150</td>\n",
       "      <td>57</td>\n",
       "      <td>1</td>\n",
       "      <td>0</td>\n",
       "      <td>0</td>\n",
       "      <td>0</td>\n",
       "      <td>0</td>\n",
       "      <td>0</td>\n",
       "      <td>...</td>\n",
       "      <td>0</td>\n",
       "      <td>0</td>\n",
       "      <td>0</td>\n",
       "      <td>0</td>\n",
       "      <td>1</td>\n",
       "      <td>0</td>\n",
       "      <td>0</td>\n",
       "      <td>0</td>\n",
       "      <td>0</td>\n",
       "      <td>1</td>\n",
       "    </tr>\n",
       "    <tr>\n",
       "      <th>3</th>\n",
       "      <td>2019</td>\n",
       "      <td>10460</td>\n",
       "      <td>145</td>\n",
       "      <td>40</td>\n",
       "      <td>1</td>\n",
       "      <td>0</td>\n",
       "      <td>0</td>\n",
       "      <td>0</td>\n",
       "      <td>0</td>\n",
       "      <td>1</td>\n",
       "      <td>...</td>\n",
       "      <td>0</td>\n",
       "      <td>0</td>\n",
       "      <td>0</td>\n",
       "      <td>0</td>\n",
       "      <td>1</td>\n",
       "      <td>0</td>\n",
       "      <td>0</td>\n",
       "      <td>0</td>\n",
       "      <td>0</td>\n",
       "      <td>1</td>\n",
       "    </tr>\n",
       "    <tr>\n",
       "      <th>4</th>\n",
       "      <td>2019</td>\n",
       "      <td>1482</td>\n",
       "      <td>145</td>\n",
       "      <td>48</td>\n",
       "      <td>1</td>\n",
       "      <td>0</td>\n",
       "      <td>0</td>\n",
       "      <td>0</td>\n",
       "      <td>0</td>\n",
       "      <td>1</td>\n",
       "      <td>...</td>\n",
       "      <td>0</td>\n",
       "      <td>0</td>\n",
       "      <td>0</td>\n",
       "      <td>0</td>\n",
       "      <td>0</td>\n",
       "      <td>0</td>\n",
       "      <td>0</td>\n",
       "      <td>0</td>\n",
       "      <td>0</td>\n",
       "      <td>1</td>\n",
       "    </tr>\n",
       "    <tr>\n",
       "      <th>...</th>\n",
       "      <td>...</td>\n",
       "      <td>...</td>\n",
       "      <td>...</td>\n",
       "      <td>...</td>\n",
       "      <td>...</td>\n",
       "      <td>...</td>\n",
       "      <td>...</td>\n",
       "      <td>...</td>\n",
       "      <td>...</td>\n",
       "      <td>...</td>\n",
       "      <td>...</td>\n",
       "      <td>...</td>\n",
       "      <td>...</td>\n",
       "      <td>...</td>\n",
       "      <td>...</td>\n",
       "      <td>...</td>\n",
       "      <td>...</td>\n",
       "      <td>...</td>\n",
       "      <td>...</td>\n",
       "      <td>...</td>\n",
       "      <td>...</td>\n",
       "    </tr>\n",
       "    <tr>\n",
       "      <th>17961</th>\n",
       "      <td>2017</td>\n",
       "      <td>16700</td>\n",
       "      <td>150</td>\n",
       "      <td>47</td>\n",
       "      <td>1</td>\n",
       "      <td>0</td>\n",
       "      <td>0</td>\n",
       "      <td>0</td>\n",
       "      <td>0</td>\n",
       "      <td>0</td>\n",
       "      <td>...</td>\n",
       "      <td>0</td>\n",
       "      <td>0</td>\n",
       "      <td>0</td>\n",
       "      <td>0</td>\n",
       "      <td>1</td>\n",
       "      <td>0</td>\n",
       "      <td>0</td>\n",
       "      <td>0</td>\n",
       "      <td>0</td>\n",
       "      <td>1</td>\n",
       "    </tr>\n",
       "    <tr>\n",
       "      <th>17962</th>\n",
       "      <td>2014</td>\n",
       "      <td>40700</td>\n",
       "      <td>30</td>\n",
       "      <td>57</td>\n",
       "      <td>1</td>\n",
       "      <td>0</td>\n",
       "      <td>0</td>\n",
       "      <td>0</td>\n",
       "      <td>0</td>\n",
       "      <td>0</td>\n",
       "      <td>...</td>\n",
       "      <td>0</td>\n",
       "      <td>0</td>\n",
       "      <td>0</td>\n",
       "      <td>0</td>\n",
       "      <td>1</td>\n",
       "      <td>0</td>\n",
       "      <td>0</td>\n",
       "      <td>0</td>\n",
       "      <td>0</td>\n",
       "      <td>1</td>\n",
       "    </tr>\n",
       "    <tr>\n",
       "      <th>17963</th>\n",
       "      <td>2015</td>\n",
       "      <td>7010</td>\n",
       "      <td>20</td>\n",
       "      <td>67</td>\n",
       "      <td>1</td>\n",
       "      <td>0</td>\n",
       "      <td>0</td>\n",
       "      <td>0</td>\n",
       "      <td>0</td>\n",
       "      <td>0</td>\n",
       "      <td>...</td>\n",
       "      <td>0</td>\n",
       "      <td>0</td>\n",
       "      <td>0</td>\n",
       "      <td>0</td>\n",
       "      <td>1</td>\n",
       "      <td>0</td>\n",
       "      <td>0</td>\n",
       "      <td>0</td>\n",
       "      <td>0</td>\n",
       "      <td>0</td>\n",
       "    </tr>\n",
       "    <tr>\n",
       "      <th>17964</th>\n",
       "      <td>2018</td>\n",
       "      <td>5007</td>\n",
       "      <td>145</td>\n",
       "      <td>57</td>\n",
       "      <td>1</td>\n",
       "      <td>0</td>\n",
       "      <td>0</td>\n",
       "      <td>0</td>\n",
       "      <td>0</td>\n",
       "      <td>0</td>\n",
       "      <td>...</td>\n",
       "      <td>0</td>\n",
       "      <td>0</td>\n",
       "      <td>0</td>\n",
       "      <td>0</td>\n",
       "      <td>1</td>\n",
       "      <td>0</td>\n",
       "      <td>0</td>\n",
       "      <td>0</td>\n",
       "      <td>0</td>\n",
       "      <td>1</td>\n",
       "    </tr>\n",
       "    <tr>\n",
       "      <th>17965</th>\n",
       "      <td>2015</td>\n",
       "      <td>5007</td>\n",
       "      <td>22</td>\n",
       "      <td>57</td>\n",
       "      <td>1</td>\n",
       "      <td>0</td>\n",
       "      <td>0</td>\n",
       "      <td>0</td>\n",
       "      <td>0</td>\n",
       "      <td>0</td>\n",
       "      <td>...</td>\n",
       "      <td>0</td>\n",
       "      <td>0</td>\n",
       "      <td>0</td>\n",
       "      <td>1</td>\n",
       "      <td>1</td>\n",
       "      <td>0</td>\n",
       "      <td>0</td>\n",
       "      <td>0</td>\n",
       "      <td>0</td>\n",
       "      <td>1</td>\n",
       "    </tr>\n",
       "  </tbody>\n",
       "</table>\n",
       "<p>17966 rows × 34 columns</p>\n",
       "</div>"
      ],
      "text/plain": [
       "       year  mileage  tax  mpg  engineSize  model_ C-MAX  model_ EcoSport  \\\n",
       "0      2017    15944  150   57           1             0                0   \n",
       "1      2018     9083  150   57           1             0                0   \n",
       "2      2017    12456  150   57           1             0                0   \n",
       "3      2019    10460  145   40           1             0                0   \n",
       "4      2019     1482  145   48           1             0                0   \n",
       "...     ...      ...  ...  ...         ...           ...              ...   \n",
       "17961  2017    16700  150   47           1             0                0   \n",
       "17962  2014    40700   30   57           1             0                0   \n",
       "17963  2015     7010   20   67           1             0                0   \n",
       "17964  2018     5007  145   57           1             0                0   \n",
       "17965  2015     5007   22   57           1             0                0   \n",
       "\n",
       "       model_ Edge  model_ Escort  model_ Fiesta  ...  model_ Tourneo Connect  \\\n",
       "0                0              0              1  ...                       0   \n",
       "1                0              0              0  ...                       0   \n",
       "2                0              0              0  ...                       0   \n",
       "3                0              0              1  ...                       0   \n",
       "4                0              0              1  ...                       0   \n",
       "...            ...            ...            ...  ...                     ...   \n",
       "17961            0              0              0  ...                       0   \n",
       "17962            0              0              0  ...                       0   \n",
       "17963            0              0              0  ...                       0   \n",
       "17964            0              0              0  ...                       0   \n",
       "17965            0              0              0  ...                       0   \n",
       "\n",
       "       model_ Tourneo Custom  model_ Transit Tourneo  model_Focus  \\\n",
       "0                          0                       0            0   \n",
       "1                          0                       0            0   \n",
       "2                          0                       0            0   \n",
       "3                          0                       0            0   \n",
       "4                          0                       0            0   \n",
       "...                      ...                     ...          ...   \n",
       "17961                      0                       0            0   \n",
       "17962                      0                       0            0   \n",
       "17963                      0                       0            0   \n",
       "17964                      0                       0            0   \n",
       "17965                      0                       0            1   \n",
       "\n",
       "       transmission_Manual  transmission_Semi-Auto  fuelType_Electric  \\\n",
       "0                        0                       0                  0   \n",
       "1                        1                       0                  0   \n",
       "2                        1                       0                  0   \n",
       "3                        1                       0                  0   \n",
       "4                        0                       0                  0   \n",
       "...                    ...                     ...                ...   \n",
       "17961                    1                       0                  0   \n",
       "17962                    1                       0                  0   \n",
       "17963                    1                       0                  0   \n",
       "17964                    1                       0                  0   \n",
       "17965                    1                       0                  0   \n",
       "\n",
       "       fuelType_Hybrid  fuelType_Other  fuelType_Petrol  \n",
       "0                    0               0                1  \n",
       "1                    0               0                1  \n",
       "2                    0               0                1  \n",
       "3                    0               0                1  \n",
       "4                    0               0                1  \n",
       "...                ...             ...              ...  \n",
       "17961                0               0                1  \n",
       "17962                0               0                1  \n",
       "17963                0               0                0  \n",
       "17964                0               0                1  \n",
       "17965                0               0                1  \n",
       "\n",
       "[17966 rows x 34 columns]"
      ]
     },
     "execution_count": 22,
     "metadata": {},
     "output_type": "execute_result"
    }
   ],
   "source": [
    "X_one_encode"
   ]
  },
  {
   "cell_type": "code",
   "execution_count": 23,
   "id": "d21a42c4",
   "metadata": {
    "execution": {
     "iopub.execute_input": "2025-06-09T04:58:56.014754Z",
     "iopub.status.busy": "2025-06-09T04:58:56.013998Z",
     "iopub.status.idle": "2025-06-09T04:58:56.184956Z",
     "shell.execute_reply": "2025-06-09T04:58:56.184075Z"
    },
    "papermill": {
     "duration": 0.188947,
     "end_time": "2025-06-09T04:58:56.186592",
     "exception": false,
     "start_time": "2025-06-09T04:58:55.997645",
     "status": "completed"
    },
    "tags": []
   },
   "outputs": [],
   "source": [
    "from sklearn.preprocessing import LabelEncoder\n",
    "\n",
    "columns = ['model', 'transmission', 'fuelType']\n",
    "\n",
    "Xlable = X.copy() \n",
    "label_encoders = {}\n",
    "\n",
    "for col in columns:\n",
    "    le = LabelEncoder()\n",
    "    Xlable[col] = le.fit_transform(Xlable[col].astype(str)) \n",
    "    label_encoders[col] = le"
   ]
  },
  {
   "cell_type": "code",
   "execution_count": 24,
   "id": "7c9113f9",
   "metadata": {
    "execution": {
     "iopub.execute_input": "2025-06-09T04:58:56.217513Z",
     "iopub.status.busy": "2025-06-09T04:58:56.217224Z",
     "iopub.status.idle": "2025-06-09T04:58:56.229828Z",
     "shell.execute_reply": "2025-06-09T04:58:56.228978Z"
    },
    "papermill": {
     "duration": 0.02986,
     "end_time": "2025-06-09T04:58:56.231293",
     "exception": false,
     "start_time": "2025-06-09T04:58:56.201433",
     "status": "completed"
    },
    "tags": []
   },
   "outputs": [
    {
     "data": {
      "text/html": [
       "<div>\n",
       "<style scoped>\n",
       "    .dataframe tbody tr th:only-of-type {\n",
       "        vertical-align: middle;\n",
       "    }\n",
       "\n",
       "    .dataframe tbody tr th {\n",
       "        vertical-align: top;\n",
       "    }\n",
       "\n",
       "    .dataframe thead th {\n",
       "        text-align: right;\n",
       "    }\n",
       "</style>\n",
       "<table border=\"1\" class=\"dataframe\">\n",
       "  <thead>\n",
       "    <tr style=\"text-align: right;\">\n",
       "      <th></th>\n",
       "      <th>model</th>\n",
       "      <th>year</th>\n",
       "      <th>transmission</th>\n",
       "      <th>mileage</th>\n",
       "      <th>fuelType</th>\n",
       "      <th>tax</th>\n",
       "      <th>mpg</th>\n",
       "      <th>engineSize</th>\n",
       "    </tr>\n",
       "  </thead>\n",
       "  <tbody>\n",
       "    <tr>\n",
       "      <th>0</th>\n",
       "      <td>5</td>\n",
       "      <td>2017</td>\n",
       "      <td>0</td>\n",
       "      <td>15944</td>\n",
       "      <td>4</td>\n",
       "      <td>150</td>\n",
       "      <td>57.7</td>\n",
       "      <td>1.0</td>\n",
       "    </tr>\n",
       "    <tr>\n",
       "      <th>1</th>\n",
       "      <td>6</td>\n",
       "      <td>2018</td>\n",
       "      <td>1</td>\n",
       "      <td>9083</td>\n",
       "      <td>4</td>\n",
       "      <td>150</td>\n",
       "      <td>57.7</td>\n",
       "      <td>1.0</td>\n",
       "    </tr>\n",
       "    <tr>\n",
       "      <th>2</th>\n",
       "      <td>6</td>\n",
       "      <td>2017</td>\n",
       "      <td>1</td>\n",
       "      <td>12456</td>\n",
       "      <td>4</td>\n",
       "      <td>150</td>\n",
       "      <td>57.7</td>\n",
       "      <td>1.0</td>\n",
       "    </tr>\n",
       "    <tr>\n",
       "      <th>3</th>\n",
       "      <td>5</td>\n",
       "      <td>2019</td>\n",
       "      <td>1</td>\n",
       "      <td>10460</td>\n",
       "      <td>4</td>\n",
       "      <td>145</td>\n",
       "      <td>40.3</td>\n",
       "      <td>1.5</td>\n",
       "    </tr>\n",
       "    <tr>\n",
       "      <th>4</th>\n",
       "      <td>5</td>\n",
       "      <td>2019</td>\n",
       "      <td>0</td>\n",
       "      <td>1482</td>\n",
       "      <td>4</td>\n",
       "      <td>145</td>\n",
       "      <td>48.7</td>\n",
       "      <td>1.0</td>\n",
       "    </tr>\n",
       "    <tr>\n",
       "      <th>...</th>\n",
       "      <td>...</td>\n",
       "      <td>...</td>\n",
       "      <td>...</td>\n",
       "      <td>...</td>\n",
       "      <td>...</td>\n",
       "      <td>...</td>\n",
       "      <td>...</td>\n",
       "      <td>...</td>\n",
       "    </tr>\n",
       "    <tr>\n",
       "      <th>17961</th>\n",
       "      <td>0</td>\n",
       "      <td>2017</td>\n",
       "      <td>1</td>\n",
       "      <td>16700</td>\n",
       "      <td>4</td>\n",
       "      <td>150</td>\n",
       "      <td>47.1</td>\n",
       "      <td>1.4</td>\n",
       "    </tr>\n",
       "    <tr>\n",
       "      <th>17962</th>\n",
       "      <td>0</td>\n",
       "      <td>2014</td>\n",
       "      <td>1</td>\n",
       "      <td>40700</td>\n",
       "      <td>4</td>\n",
       "      <td>30</td>\n",
       "      <td>57.7</td>\n",
       "      <td>1.0</td>\n",
       "    </tr>\n",
       "    <tr>\n",
       "      <th>17963</th>\n",
       "      <td>6</td>\n",
       "      <td>2015</td>\n",
       "      <td>1</td>\n",
       "      <td>7010</td>\n",
       "      <td>0</td>\n",
       "      <td>20</td>\n",
       "      <td>67.3</td>\n",
       "      <td>1.6</td>\n",
       "    </tr>\n",
       "    <tr>\n",
       "      <th>17964</th>\n",
       "      <td>11</td>\n",
       "      <td>2018</td>\n",
       "      <td>1</td>\n",
       "      <td>5007</td>\n",
       "      <td>4</td>\n",
       "      <td>145</td>\n",
       "      <td>57.7</td>\n",
       "      <td>1.2</td>\n",
       "    </tr>\n",
       "    <tr>\n",
       "      <th>17965</th>\n",
       "      <td>23</td>\n",
       "      <td>2015</td>\n",
       "      <td>1</td>\n",
       "      <td>5007</td>\n",
       "      <td>4</td>\n",
       "      <td>22</td>\n",
       "      <td>57.7</td>\n",
       "      <td>1.0</td>\n",
       "    </tr>\n",
       "  </tbody>\n",
       "</table>\n",
       "<p>17966 rows × 8 columns</p>\n",
       "</div>"
      ],
      "text/plain": [
       "       model  year  transmission  mileage  fuelType  tax   mpg  engineSize\n",
       "0          5  2017             0    15944         4  150  57.7         1.0\n",
       "1          6  2018             1     9083         4  150  57.7         1.0\n",
       "2          6  2017             1    12456         4  150  57.7         1.0\n",
       "3          5  2019             1    10460         4  145  40.3         1.5\n",
       "4          5  2019             0     1482         4  145  48.7         1.0\n",
       "...      ...   ...           ...      ...       ...  ...   ...         ...\n",
       "17961      0  2017             1    16700         4  150  47.1         1.4\n",
       "17962      0  2014             1    40700         4   30  57.7         1.0\n",
       "17963      6  2015             1     7010         0   20  67.3         1.6\n",
       "17964     11  2018             1     5007         4  145  57.7         1.2\n",
       "17965     23  2015             1     5007         4   22  57.7         1.0\n",
       "\n",
       "[17966 rows x 8 columns]"
      ]
     },
     "execution_count": 24,
     "metadata": {},
     "output_type": "execute_result"
    }
   ],
   "source": [
    "Xlable"
   ]
  },
  {
   "cell_type": "code",
   "execution_count": 25,
   "id": "7dfd8c89",
   "metadata": {
    "execution": {
     "iopub.execute_input": "2025-06-09T04:58:56.261824Z",
     "iopub.status.busy": "2025-06-09T04:58:56.261544Z",
     "iopub.status.idle": "2025-06-09T04:58:56.265452Z",
     "shell.execute_reply": "2025-06-09T04:58:56.264782Z"
    },
    "papermill": {
     "duration": 0.02068,
     "end_time": "2025-06-09T04:58:56.266767",
     "exception": false,
     "start_time": "2025-06-09T04:58:56.246087",
     "status": "completed"
    },
    "tags": []
   },
   "outputs": [],
   "source": [
    "from sklearn.preprocessing import StandardScaler"
   ]
  },
  {
   "cell_type": "code",
   "execution_count": 26,
   "id": "72f294b0",
   "metadata": {
    "execution": {
     "iopub.execute_input": "2025-06-09T04:58:56.297323Z",
     "iopub.status.busy": "2025-06-09T04:58:56.297003Z",
     "iopub.status.idle": "2025-06-09T04:58:56.316210Z",
     "shell.execute_reply": "2025-06-09T04:58:56.315248Z"
    },
    "papermill": {
     "duration": 0.036354,
     "end_time": "2025-06-09T04:58:56.317833",
     "exception": false,
     "start_time": "2025-06-09T04:58:56.281479",
     "status": "completed"
    },
    "tags": []
   },
   "outputs": [],
   "source": [
    "numerical_cols = ['year', 'mileage', 'tax', 'mpg', 'engineSize']\n",
    "scaler = StandardScaler()\n",
    "X_one_encode[numerical_cols] = scaler.fit_transform(X_one_encode[numerical_cols])"
   ]
  },
  {
   "cell_type": "code",
   "execution_count": 27,
   "id": "6fd76e32",
   "metadata": {
    "execution": {
     "iopub.execute_input": "2025-06-09T04:58:56.349333Z",
     "iopub.status.busy": "2025-06-09T04:58:56.348670Z",
     "iopub.status.idle": "2025-06-09T04:58:56.383175Z",
     "shell.execute_reply": "2025-06-09T04:58:56.382135Z"
    },
    "papermill": {
     "duration": 0.052118,
     "end_time": "2025-06-09T04:58:56.384973",
     "exception": false,
     "start_time": "2025-06-09T04:58:56.332855",
     "status": "completed"
    },
    "tags": []
   },
   "outputs": [
    {
     "data": {
      "text/html": [
       "<div>\n",
       "<style scoped>\n",
       "    .dataframe tbody tr th:only-of-type {\n",
       "        vertical-align: middle;\n",
       "    }\n",
       "\n",
       "    .dataframe tbody tr th {\n",
       "        vertical-align: top;\n",
       "    }\n",
       "\n",
       "    .dataframe thead th {\n",
       "        text-align: right;\n",
       "    }\n",
       "</style>\n",
       "<table border=\"1\" class=\"dataframe\">\n",
       "  <thead>\n",
       "    <tr style=\"text-align: right;\">\n",
       "      <th></th>\n",
       "      <th>year</th>\n",
       "      <th>mileage</th>\n",
       "      <th>tax</th>\n",
       "      <th>mpg</th>\n",
       "      <th>engineSize</th>\n",
       "      <th>model_ C-MAX</th>\n",
       "      <th>model_ EcoSport</th>\n",
       "      <th>model_ Edge</th>\n",
       "      <th>model_ Escort</th>\n",
       "      <th>model_ Fiesta</th>\n",
       "      <th>...</th>\n",
       "      <th>model_ Tourneo Connect</th>\n",
       "      <th>model_ Tourneo Custom</th>\n",
       "      <th>model_ Transit Tourneo</th>\n",
       "      <th>model_Focus</th>\n",
       "      <th>transmission_Manual</th>\n",
       "      <th>transmission_Semi-Auto</th>\n",
       "      <th>fuelType_Electric</th>\n",
       "      <th>fuelType_Hybrid</th>\n",
       "      <th>fuelType_Other</th>\n",
       "      <th>fuelType_Petrol</th>\n",
       "    </tr>\n",
       "  </thead>\n",
       "  <tbody>\n",
       "    <tr>\n",
       "      <th>0</th>\n",
       "      <td>0.065128</td>\n",
       "      <td>-0.380998</td>\n",
       "      <td>0.591358</td>\n",
       "      <td>-0.042122</td>\n",
       "      <td>-0.447984</td>\n",
       "      <td>0</td>\n",
       "      <td>0</td>\n",
       "      <td>0</td>\n",
       "      <td>0</td>\n",
       "      <td>1</td>\n",
       "      <td>...</td>\n",
       "      <td>0</td>\n",
       "      <td>0</td>\n",
       "      <td>0</td>\n",
       "      <td>0</td>\n",
       "      <td>0</td>\n",
       "      <td>0</td>\n",
       "      <td>0</td>\n",
       "      <td>0</td>\n",
       "      <td>0</td>\n",
       "      <td>1</td>\n",
       "    </tr>\n",
       "    <tr>\n",
       "      <th>1</th>\n",
       "      <td>0.552866</td>\n",
       "      <td>-0.733359</td>\n",
       "      <td>0.591358</td>\n",
       "      <td>-0.042122</td>\n",
       "      <td>-0.447984</td>\n",
       "      <td>0</td>\n",
       "      <td>0</td>\n",
       "      <td>0</td>\n",
       "      <td>0</td>\n",
       "      <td>0</td>\n",
       "      <td>...</td>\n",
       "      <td>0</td>\n",
       "      <td>0</td>\n",
       "      <td>0</td>\n",
       "      <td>0</td>\n",
       "      <td>1</td>\n",
       "      <td>0</td>\n",
       "      <td>0</td>\n",
       "      <td>0</td>\n",
       "      <td>0</td>\n",
       "      <td>1</td>\n",
       "    </tr>\n",
       "    <tr>\n",
       "      <th>2</th>\n",
       "      <td>0.065128</td>\n",
       "      <td>-0.560132</td>\n",
       "      <td>0.591358</td>\n",
       "      <td>-0.042122</td>\n",
       "      <td>-0.447984</td>\n",
       "      <td>0</td>\n",
       "      <td>0</td>\n",
       "      <td>0</td>\n",
       "      <td>0</td>\n",
       "      <td>0</td>\n",
       "      <td>...</td>\n",
       "      <td>0</td>\n",
       "      <td>0</td>\n",
       "      <td>0</td>\n",
       "      <td>0</td>\n",
       "      <td>1</td>\n",
       "      <td>0</td>\n",
       "      <td>0</td>\n",
       "      <td>0</td>\n",
       "      <td>0</td>\n",
       "      <td>1</td>\n",
       "    </tr>\n",
       "    <tr>\n",
       "      <th>3</th>\n",
       "      <td>1.040605</td>\n",
       "      <td>-0.662640</td>\n",
       "      <td>0.510727</td>\n",
       "      <td>-1.721198</td>\n",
       "      <td>-0.447984</td>\n",
       "      <td>0</td>\n",
       "      <td>0</td>\n",
       "      <td>0</td>\n",
       "      <td>0</td>\n",
       "      <td>1</td>\n",
       "      <td>...</td>\n",
       "      <td>0</td>\n",
       "      <td>0</td>\n",
       "      <td>0</td>\n",
       "      <td>0</td>\n",
       "      <td>1</td>\n",
       "      <td>0</td>\n",
       "      <td>0</td>\n",
       "      <td>0</td>\n",
       "      <td>0</td>\n",
       "      <td>1</td>\n",
       "    </tr>\n",
       "    <tr>\n",
       "      <th>4</th>\n",
       "      <td>1.040605</td>\n",
       "      <td>-1.123724</td>\n",
       "      <td>0.510727</td>\n",
       "      <td>-0.931045</td>\n",
       "      <td>-0.447984</td>\n",
       "      <td>0</td>\n",
       "      <td>0</td>\n",
       "      <td>0</td>\n",
       "      <td>0</td>\n",
       "      <td>1</td>\n",
       "      <td>...</td>\n",
       "      <td>0</td>\n",
       "      <td>0</td>\n",
       "      <td>0</td>\n",
       "      <td>0</td>\n",
       "      <td>0</td>\n",
       "      <td>0</td>\n",
       "      <td>0</td>\n",
       "      <td>0</td>\n",
       "      <td>0</td>\n",
       "      <td>1</td>\n",
       "    </tr>\n",
       "    <tr>\n",
       "      <th>...</th>\n",
       "      <td>...</td>\n",
       "      <td>...</td>\n",
       "      <td>...</td>\n",
       "      <td>...</td>\n",
       "      <td>...</td>\n",
       "      <td>...</td>\n",
       "      <td>...</td>\n",
       "      <td>...</td>\n",
       "      <td>...</td>\n",
       "      <td>...</td>\n",
       "      <td>...</td>\n",
       "      <td>...</td>\n",
       "      <td>...</td>\n",
       "      <td>...</td>\n",
       "      <td>...</td>\n",
       "      <td>...</td>\n",
       "      <td>...</td>\n",
       "      <td>...</td>\n",
       "      <td>...</td>\n",
       "      <td>...</td>\n",
       "      <td>...</td>\n",
       "    </tr>\n",
       "    <tr>\n",
       "      <th>17961</th>\n",
       "      <td>0.065128</td>\n",
       "      <td>-0.342172</td>\n",
       "      <td>0.591358</td>\n",
       "      <td>-1.029814</td>\n",
       "      <td>-0.447984</td>\n",
       "      <td>0</td>\n",
       "      <td>0</td>\n",
       "      <td>0</td>\n",
       "      <td>0</td>\n",
       "      <td>0</td>\n",
       "      <td>...</td>\n",
       "      <td>0</td>\n",
       "      <td>0</td>\n",
       "      <td>0</td>\n",
       "      <td>0</td>\n",
       "      <td>1</td>\n",
       "      <td>0</td>\n",
       "      <td>0</td>\n",
       "      <td>0</td>\n",
       "      <td>0</td>\n",
       "      <td>1</td>\n",
       "    </tr>\n",
       "    <tr>\n",
       "      <th>17962</th>\n",
       "      <td>-1.398088</td>\n",
       "      <td>0.890398</td>\n",
       "      <td>-1.343791</td>\n",
       "      <td>-0.042122</td>\n",
       "      <td>-0.447984</td>\n",
       "      <td>0</td>\n",
       "      <td>0</td>\n",
       "      <td>0</td>\n",
       "      <td>0</td>\n",
       "      <td>0</td>\n",
       "      <td>...</td>\n",
       "      <td>0</td>\n",
       "      <td>0</td>\n",
       "      <td>0</td>\n",
       "      <td>0</td>\n",
       "      <td>1</td>\n",
       "      <td>0</td>\n",
       "      <td>0</td>\n",
       "      <td>0</td>\n",
       "      <td>0</td>\n",
       "      <td>1</td>\n",
       "    </tr>\n",
       "    <tr>\n",
       "      <th>17963</th>\n",
       "      <td>-0.910349</td>\n",
       "      <td>-0.839822</td>\n",
       "      <td>-1.505053</td>\n",
       "      <td>0.945569</td>\n",
       "      <td>-0.447984</td>\n",
       "      <td>0</td>\n",
       "      <td>0</td>\n",
       "      <td>0</td>\n",
       "      <td>0</td>\n",
       "      <td>0</td>\n",
       "      <td>...</td>\n",
       "      <td>0</td>\n",
       "      <td>0</td>\n",
       "      <td>0</td>\n",
       "      <td>0</td>\n",
       "      <td>1</td>\n",
       "      <td>0</td>\n",
       "      <td>0</td>\n",
       "      <td>0</td>\n",
       "      <td>0</td>\n",
       "      <td>0</td>\n",
       "    </tr>\n",
       "    <tr>\n",
       "      <th>17964</th>\n",
       "      <td>0.552866</td>\n",
       "      <td>-0.942690</td>\n",
       "      <td>0.510727</td>\n",
       "      <td>-0.042122</td>\n",
       "      <td>-0.447984</td>\n",
       "      <td>0</td>\n",
       "      <td>0</td>\n",
       "      <td>0</td>\n",
       "      <td>0</td>\n",
       "      <td>0</td>\n",
       "      <td>...</td>\n",
       "      <td>0</td>\n",
       "      <td>0</td>\n",
       "      <td>0</td>\n",
       "      <td>0</td>\n",
       "      <td>1</td>\n",
       "      <td>0</td>\n",
       "      <td>0</td>\n",
       "      <td>0</td>\n",
       "      <td>0</td>\n",
       "      <td>1</td>\n",
       "    </tr>\n",
       "    <tr>\n",
       "      <th>17965</th>\n",
       "      <td>-0.910349</td>\n",
       "      <td>-0.942690</td>\n",
       "      <td>-1.472801</td>\n",
       "      <td>-0.042122</td>\n",
       "      <td>-0.447984</td>\n",
       "      <td>0</td>\n",
       "      <td>0</td>\n",
       "      <td>0</td>\n",
       "      <td>0</td>\n",
       "      <td>0</td>\n",
       "      <td>...</td>\n",
       "      <td>0</td>\n",
       "      <td>0</td>\n",
       "      <td>0</td>\n",
       "      <td>1</td>\n",
       "      <td>1</td>\n",
       "      <td>0</td>\n",
       "      <td>0</td>\n",
       "      <td>0</td>\n",
       "      <td>0</td>\n",
       "      <td>1</td>\n",
       "    </tr>\n",
       "  </tbody>\n",
       "</table>\n",
       "<p>17966 rows × 34 columns</p>\n",
       "</div>"
      ],
      "text/plain": [
       "           year   mileage       tax       mpg  engineSize  model_ C-MAX  \\\n",
       "0      0.065128 -0.380998  0.591358 -0.042122   -0.447984             0   \n",
       "1      0.552866 -0.733359  0.591358 -0.042122   -0.447984             0   \n",
       "2      0.065128 -0.560132  0.591358 -0.042122   -0.447984             0   \n",
       "3      1.040605 -0.662640  0.510727 -1.721198   -0.447984             0   \n",
       "4      1.040605 -1.123724  0.510727 -0.931045   -0.447984             0   \n",
       "...         ...       ...       ...       ...         ...           ...   \n",
       "17961  0.065128 -0.342172  0.591358 -1.029814   -0.447984             0   \n",
       "17962 -1.398088  0.890398 -1.343791 -0.042122   -0.447984             0   \n",
       "17963 -0.910349 -0.839822 -1.505053  0.945569   -0.447984             0   \n",
       "17964  0.552866 -0.942690  0.510727 -0.042122   -0.447984             0   \n",
       "17965 -0.910349 -0.942690 -1.472801 -0.042122   -0.447984             0   \n",
       "\n",
       "       model_ EcoSport  model_ Edge  model_ Escort  model_ Fiesta  ...  \\\n",
       "0                    0            0              0              1  ...   \n",
       "1                    0            0              0              0  ...   \n",
       "2                    0            0              0              0  ...   \n",
       "3                    0            0              0              1  ...   \n",
       "4                    0            0              0              1  ...   \n",
       "...                ...          ...            ...            ...  ...   \n",
       "17961                0            0              0              0  ...   \n",
       "17962                0            0              0              0  ...   \n",
       "17963                0            0              0              0  ...   \n",
       "17964                0            0              0              0  ...   \n",
       "17965                0            0              0              0  ...   \n",
       "\n",
       "       model_ Tourneo Connect  model_ Tourneo Custom  model_ Transit Tourneo  \\\n",
       "0                           0                      0                       0   \n",
       "1                           0                      0                       0   \n",
       "2                           0                      0                       0   \n",
       "3                           0                      0                       0   \n",
       "4                           0                      0                       0   \n",
       "...                       ...                    ...                     ...   \n",
       "17961                       0                      0                       0   \n",
       "17962                       0                      0                       0   \n",
       "17963                       0                      0                       0   \n",
       "17964                       0                      0                       0   \n",
       "17965                       0                      0                       0   \n",
       "\n",
       "       model_Focus  transmission_Manual  transmission_Semi-Auto  \\\n",
       "0                0                    0                       0   \n",
       "1                0                    1                       0   \n",
       "2                0                    1                       0   \n",
       "3                0                    1                       0   \n",
       "4                0                    0                       0   \n",
       "...            ...                  ...                     ...   \n",
       "17961            0                    1                       0   \n",
       "17962            0                    1                       0   \n",
       "17963            0                    1                       0   \n",
       "17964            0                    1                       0   \n",
       "17965            1                    1                       0   \n",
       "\n",
       "       fuelType_Electric  fuelType_Hybrid  fuelType_Other  fuelType_Petrol  \n",
       "0                      0                0               0                1  \n",
       "1                      0                0               0                1  \n",
       "2                      0                0               0                1  \n",
       "3                      0                0               0                1  \n",
       "4                      0                0               0                1  \n",
       "...                  ...              ...             ...              ...  \n",
       "17961                  0                0               0                1  \n",
       "17962                  0                0               0                1  \n",
       "17963                  0                0               0                0  \n",
       "17964                  0                0               0                1  \n",
       "17965                  0                0               0                1  \n",
       "\n",
       "[17966 rows x 34 columns]"
      ]
     },
     "execution_count": 27,
     "metadata": {},
     "output_type": "execute_result"
    }
   ],
   "source": [
    "X_one_encode"
   ]
  },
  {
   "cell_type": "code",
   "execution_count": 28,
   "id": "c251fa21",
   "metadata": {
    "execution": {
     "iopub.execute_input": "2025-06-09T04:58:56.417604Z",
     "iopub.status.busy": "2025-06-09T04:58:56.417302Z",
     "iopub.status.idle": "2025-06-09T04:58:56.423039Z",
     "shell.execute_reply": "2025-06-09T04:58:56.422225Z"
    },
    "papermill": {
     "duration": 0.023552,
     "end_time": "2025-06-09T04:58:56.424392",
     "exception": false,
     "start_time": "2025-06-09T04:58:56.400840",
     "status": "completed"
    },
    "tags": []
   },
   "outputs": [
    {
     "data": {
      "text/plain": [
       "Index(['model', 'year', 'transmission', 'mileage', 'fuelType', 'tax', 'mpg',\n",
       "       'engineSize'],\n",
       "      dtype='object')"
      ]
     },
     "execution_count": 28,
     "metadata": {},
     "output_type": "execute_result"
    }
   ],
   "source": [
    "Xlable.columns"
   ]
  },
  {
   "cell_type": "code",
   "execution_count": 29,
   "id": "dd45efee",
   "metadata": {
    "execution": {
     "iopub.execute_input": "2025-06-09T04:58:56.457502Z",
     "iopub.status.busy": "2025-06-09T04:58:56.457191Z",
     "iopub.status.idle": "2025-06-09T04:58:56.474621Z",
     "shell.execute_reply": "2025-06-09T04:58:56.473748Z"
    },
    "papermill": {
     "duration": 0.036103,
     "end_time": "2025-06-09T04:58:56.476200",
     "exception": false,
     "start_time": "2025-06-09T04:58:56.440097",
     "status": "completed"
    },
    "tags": []
   },
   "outputs": [],
   "source": [
    "Xlable[['model', 'year', 'transmission', 'mileage', 'fuelType', 'tax', 'mpg',\n",
    "       'engineSize']] = scaler.fit_transform(Xlable[['model', 'year', 'transmission', 'mileage', 'fuelType', 'tax', 'mpg',\n",
    "       'engineSize']])"
   ]
  },
  {
   "cell_type": "code",
   "execution_count": 30,
   "id": "0b6f9fb0",
   "metadata": {
    "execution": {
     "iopub.execute_input": "2025-06-09T04:58:56.508322Z",
     "iopub.status.busy": "2025-06-09T04:58:56.508017Z",
     "iopub.status.idle": "2025-06-09T04:58:56.521639Z",
     "shell.execute_reply": "2025-06-09T04:58:56.520738Z"
    },
    "papermill": {
     "duration": 0.031408,
     "end_time": "2025-06-09T04:58:56.523176",
     "exception": false,
     "start_time": "2025-06-09T04:58:56.491768",
     "status": "completed"
    },
    "tags": []
   },
   "outputs": [
    {
     "data": {
      "text/html": [
       "<div>\n",
       "<style scoped>\n",
       "    .dataframe tbody tr th:only-of-type {\n",
       "        vertical-align: middle;\n",
       "    }\n",
       "\n",
       "    .dataframe tbody tr th {\n",
       "        vertical-align: top;\n",
       "    }\n",
       "\n",
       "    .dataframe thead th {\n",
       "        text-align: right;\n",
       "    }\n",
       "</style>\n",
       "<table border=\"1\" class=\"dataframe\">\n",
       "  <thead>\n",
       "    <tr style=\"text-align: right;\">\n",
       "      <th></th>\n",
       "      <th>model</th>\n",
       "      <th>year</th>\n",
       "      <th>transmission</th>\n",
       "      <th>mileage</th>\n",
       "      <th>fuelType</th>\n",
       "      <th>tax</th>\n",
       "      <th>mpg</th>\n",
       "      <th>engineSize</th>\n",
       "    </tr>\n",
       "  </thead>\n",
       "  <tbody>\n",
       "    <tr>\n",
       "      <th>0</th>\n",
       "      <td>-0.460699</td>\n",
       "      <td>0.065128</td>\n",
       "      <td>-2.670032</td>\n",
       "      <td>-0.380998</td>\n",
       "      <td>0.688777</td>\n",
       "      <td>0.591358</td>\n",
       "      <td>-0.020442</td>\n",
       "      <td>-0.811386</td>\n",
       "    </tr>\n",
       "    <tr>\n",
       "      <th>1</th>\n",
       "      <td>-0.211477</td>\n",
       "      <td>0.552866</td>\n",
       "      <td>0.041351</td>\n",
       "      <td>-0.733359</td>\n",
       "      <td>0.688777</td>\n",
       "      <td>0.591358</td>\n",
       "      <td>-0.020442</td>\n",
       "      <td>-0.811386</td>\n",
       "    </tr>\n",
       "    <tr>\n",
       "      <th>2</th>\n",
       "      <td>-0.211477</td>\n",
       "      <td>0.065128</td>\n",
       "      <td>0.041351</td>\n",
       "      <td>-0.560132</td>\n",
       "      <td>0.688777</td>\n",
       "      <td>0.591358</td>\n",
       "      <td>-0.020442</td>\n",
       "      <td>-0.811386</td>\n",
       "    </tr>\n",
       "    <tr>\n",
       "      <th>3</th>\n",
       "      <td>-0.460699</td>\n",
       "      <td>1.040605</td>\n",
       "      <td>0.041351</td>\n",
       "      <td>-0.662640</td>\n",
       "      <td>0.688777</td>\n",
       "      <td>0.510727</td>\n",
       "      <td>-1.738890</td>\n",
       "      <td>0.345070</td>\n",
       "    </tr>\n",
       "    <tr>\n",
       "      <th>4</th>\n",
       "      <td>-0.460699</td>\n",
       "      <td>1.040605</td>\n",
       "      <td>-2.670032</td>\n",
       "      <td>-1.123724</td>\n",
       "      <td>0.688777</td>\n",
       "      <td>0.510727</td>\n",
       "      <td>-0.909294</td>\n",
       "      <td>-0.811386</td>\n",
       "    </tr>\n",
       "    <tr>\n",
       "      <th>...</th>\n",
       "      <td>...</td>\n",
       "      <td>...</td>\n",
       "      <td>...</td>\n",
       "      <td>...</td>\n",
       "      <td>...</td>\n",
       "      <td>...</td>\n",
       "      <td>...</td>\n",
       "      <td>...</td>\n",
       "    </tr>\n",
       "    <tr>\n",
       "      <th>17961</th>\n",
       "      <td>-1.706810</td>\n",
       "      <td>0.065128</td>\n",
       "      <td>0.041351</td>\n",
       "      <td>-0.342172</td>\n",
       "      <td>0.688777</td>\n",
       "      <td>0.591358</td>\n",
       "      <td>-1.067312</td>\n",
       "      <td>0.113779</td>\n",
       "    </tr>\n",
       "    <tr>\n",
       "      <th>17962</th>\n",
       "      <td>-1.706810</td>\n",
       "      <td>-1.398088</td>\n",
       "      <td>0.041351</td>\n",
       "      <td>0.890398</td>\n",
       "      <td>0.688777</td>\n",
       "      <td>-1.343791</td>\n",
       "      <td>-0.020442</td>\n",
       "      <td>-0.811386</td>\n",
       "    </tr>\n",
       "    <tr>\n",
       "      <th>17963</th>\n",
       "      <td>-0.211477</td>\n",
       "      <td>-0.910349</td>\n",
       "      <td>0.041351</td>\n",
       "      <td>-0.839822</td>\n",
       "      <td>-1.454098</td>\n",
       "      <td>-1.505053</td>\n",
       "      <td>0.927668</td>\n",
       "      <td>0.576362</td>\n",
       "    </tr>\n",
       "    <tr>\n",
       "      <th>17964</th>\n",
       "      <td>1.034634</td>\n",
       "      <td>0.552866</td>\n",
       "      <td>0.041351</td>\n",
       "      <td>-0.942690</td>\n",
       "      <td>0.688777</td>\n",
       "      <td>0.510727</td>\n",
       "      <td>-0.020442</td>\n",
       "      <td>-0.348804</td>\n",
       "    </tr>\n",
       "    <tr>\n",
       "      <th>17965</th>\n",
       "      <td>4.025302</td>\n",
       "      <td>-0.910349</td>\n",
       "      <td>0.041351</td>\n",
       "      <td>-0.942690</td>\n",
       "      <td>0.688777</td>\n",
       "      <td>-1.472801</td>\n",
       "      <td>-0.020442</td>\n",
       "      <td>-0.811386</td>\n",
       "    </tr>\n",
       "  </tbody>\n",
       "</table>\n",
       "<p>17966 rows × 8 columns</p>\n",
       "</div>"
      ],
      "text/plain": [
       "          model      year  transmission   mileage  fuelType       tax  \\\n",
       "0     -0.460699  0.065128     -2.670032 -0.380998  0.688777  0.591358   \n",
       "1     -0.211477  0.552866      0.041351 -0.733359  0.688777  0.591358   \n",
       "2     -0.211477  0.065128      0.041351 -0.560132  0.688777  0.591358   \n",
       "3     -0.460699  1.040605      0.041351 -0.662640  0.688777  0.510727   \n",
       "4     -0.460699  1.040605     -2.670032 -1.123724  0.688777  0.510727   \n",
       "...         ...       ...           ...       ...       ...       ...   \n",
       "17961 -1.706810  0.065128      0.041351 -0.342172  0.688777  0.591358   \n",
       "17962 -1.706810 -1.398088      0.041351  0.890398  0.688777 -1.343791   \n",
       "17963 -0.211477 -0.910349      0.041351 -0.839822 -1.454098 -1.505053   \n",
       "17964  1.034634  0.552866      0.041351 -0.942690  0.688777  0.510727   \n",
       "17965  4.025302 -0.910349      0.041351 -0.942690  0.688777 -1.472801   \n",
       "\n",
       "            mpg  engineSize  \n",
       "0     -0.020442   -0.811386  \n",
       "1     -0.020442   -0.811386  \n",
       "2     -0.020442   -0.811386  \n",
       "3     -1.738890    0.345070  \n",
       "4     -0.909294   -0.811386  \n",
       "...         ...         ...  \n",
       "17961 -1.067312    0.113779  \n",
       "17962 -0.020442   -0.811386  \n",
       "17963  0.927668    0.576362  \n",
       "17964 -0.020442   -0.348804  \n",
       "17965 -0.020442   -0.811386  \n",
       "\n",
       "[17966 rows x 8 columns]"
      ]
     },
     "execution_count": 30,
     "metadata": {},
     "output_type": "execute_result"
    }
   ],
   "source": [
    "Xlable"
   ]
  },
  {
   "cell_type": "code",
   "execution_count": 31,
   "id": "3dac1746",
   "metadata": {
    "execution": {
     "iopub.execute_input": "2025-06-09T04:58:56.556459Z",
     "iopub.status.busy": "2025-06-09T04:58:56.556128Z",
     "iopub.status.idle": "2025-06-09T04:58:56.867096Z",
     "shell.execute_reply": "2025-06-09T04:58:56.866105Z"
    },
    "papermill": {
     "duration": 0.329303,
     "end_time": "2025-06-09T04:58:56.868613",
     "exception": false,
     "start_time": "2025-06-09T04:58:56.539310",
     "status": "completed"
    },
    "tags": []
   },
   "outputs": [],
   "source": [
    "from sklearn.model_selection import train_test_split\n",
    "from sklearn.linear_model import LinearRegression\n",
    "from sklearn.metrics import mean_absolute_error, mean_squared_error, r2_score"
   ]
  },
  {
   "cell_type": "code",
   "execution_count": 32,
   "id": "91579b91",
   "metadata": {
    "execution": {
     "iopub.execute_input": "2025-06-09T04:58:56.900808Z",
     "iopub.status.busy": "2025-06-09T04:58:56.900503Z",
     "iopub.status.idle": "2025-06-09T04:58:56.915616Z",
     "shell.execute_reply": "2025-06-09T04:58:56.914804Z"
    },
    "papermill": {
     "duration": 0.032774,
     "end_time": "2025-06-09T04:58:56.917134",
     "exception": false,
     "start_time": "2025-06-09T04:58:56.884360",
     "status": "completed"
    },
    "tags": []
   },
   "outputs": [],
   "source": [
    "#X_train, X_test, y_train, y_test = train_test_split(X_one_encode, y, test_size=0.33, random_state=42)"
   ]
  },
  {
   "cell_type": "code",
   "execution_count": 33,
   "id": "e8296074",
   "metadata": {
    "execution": {
     "iopub.execute_input": "2025-06-09T04:58:56.949678Z",
     "iopub.status.busy": "2025-06-09T04:58:56.948932Z",
     "iopub.status.idle": "2025-06-09T04:58:57.018380Z",
     "shell.execute_reply": "2025-06-09T04:58:57.017570Z"
    },
    "papermill": {
     "duration": 0.087439,
     "end_time": "2025-06-09T04:58:57.020112",
     "exception": false,
     "start_time": "2025-06-09T04:58:56.932673",
     "status": "completed"
    },
    "tags": []
   },
   "outputs": [],
   "source": [
    "#model = LinearRegression()\n",
    "#model.fit(X_train,y_train)"
   ]
  },
  {
   "cell_type": "code",
   "execution_count": 34,
   "id": "a8cba7fb",
   "metadata": {
    "execution": {
     "iopub.execute_input": "2025-06-09T04:58:57.076106Z",
     "iopub.status.busy": "2025-06-09T04:58:57.075750Z",
     "iopub.status.idle": "2025-06-09T04:58:57.089882Z",
     "shell.execute_reply": "2025-06-09T04:58:57.087341Z"
    },
    "papermill": {
     "duration": 0.046081,
     "end_time": "2025-06-09T04:58:57.093242",
     "exception": false,
     "start_time": "2025-06-09T04:58:57.047161",
     "status": "completed"
    },
    "tags": []
   },
   "outputs": [],
   "source": [
    "#y_pred = model.predict(X_test)"
   ]
  },
  {
   "cell_type": "code",
   "execution_count": 35,
   "id": "4607a230",
   "metadata": {
    "execution": {
     "iopub.execute_input": "2025-06-09T04:58:57.139479Z",
     "iopub.status.busy": "2025-06-09T04:58:57.138778Z",
     "iopub.status.idle": "2025-06-09T04:58:57.144316Z",
     "shell.execute_reply": "2025-06-09T04:58:57.143426Z"
    },
    "papermill": {
     "duration": 0.025441,
     "end_time": "2025-06-09T04:58:57.145533",
     "exception": false,
     "start_time": "2025-06-09T04:58:57.120092",
     "status": "completed"
    },
    "tags": []
   },
   "outputs": [],
   "source": [
    "#y_pred"
   ]
  },
  {
   "cell_type": "code",
   "execution_count": 36,
   "id": "96d5740e",
   "metadata": {
    "execution": {
     "iopub.execute_input": "2025-06-09T04:58:57.179063Z",
     "iopub.status.busy": "2025-06-09T04:58:57.178744Z",
     "iopub.status.idle": "2025-06-09T04:58:57.185197Z",
     "shell.execute_reply": "2025-06-09T04:58:57.184361Z"
    },
    "papermill": {
     "duration": 0.024628,
     "end_time": "2025-06-09T04:58:57.186504",
     "exception": false,
     "start_time": "2025-06-09T04:58:57.161876",
     "status": "completed"
    },
    "tags": []
   },
   "outputs": [],
   "source": [
    "#y_test"
   ]
  },
  {
   "cell_type": "code",
   "execution_count": 37,
   "id": "91d84008",
   "metadata": {
    "execution": {
     "iopub.execute_input": "2025-06-09T04:58:57.219691Z",
     "iopub.status.busy": "2025-06-09T04:58:57.219419Z",
     "iopub.status.idle": "2025-06-09T04:58:57.226039Z",
     "shell.execute_reply": "2025-06-09T04:58:57.225222Z"
    },
    "papermill": {
     "duration": 0.024691,
     "end_time": "2025-06-09T04:58:57.227358",
     "exception": false,
     "start_time": "2025-06-09T04:58:57.202667",
     "status": "completed"
    },
    "tags": []
   },
   "outputs": [],
   "source": [
    "#r2 = r2_score(y_test,y_pred)\n",
    "#r2"
   ]
  },
  {
   "cell_type": "code",
   "execution_count": 38,
   "id": "e85d7062",
   "metadata": {
    "execution": {
     "iopub.execute_input": "2025-06-09T04:58:57.265284Z",
     "iopub.status.busy": "2025-06-09T04:58:57.264667Z",
     "iopub.status.idle": "2025-06-09T04:58:57.269853Z",
     "shell.execute_reply": "2025-06-09T04:58:57.268895Z"
    },
    "papermill": {
     "duration": 0.027801,
     "end_time": "2025-06-09T04:58:57.271321",
     "exception": false,
     "start_time": "2025-06-09T04:58:57.243520",
     "status": "completed"
    },
    "tags": []
   },
   "outputs": [],
   "source": [
    "#n = X_test.shape[0]\n",
    "#p = X_test.shape[1]\n",
    "#adjusted_r2 = 1 - ((1 - r2) * (n - 1)) / (n - p - 1)\n",
    "#print(\"Adjusted R² Score:\", adjusted_r2)"
   ]
  },
  {
   "cell_type": "code",
   "execution_count": 39,
   "id": "49da7691",
   "metadata": {
    "execution": {
     "iopub.execute_input": "2025-06-09T04:58:57.305120Z",
     "iopub.status.busy": "2025-06-09T04:58:57.304683Z",
     "iopub.status.idle": "2025-06-09T04:58:57.313818Z",
     "shell.execute_reply": "2025-06-09T04:58:57.313114Z"
    },
    "papermill": {
     "duration": 0.027526,
     "end_time": "2025-06-09T04:58:57.315193",
     "exception": false,
     "start_time": "2025-06-09T04:58:57.287667",
     "status": "completed"
    },
    "tags": []
   },
   "outputs": [],
   "source": [
    "#X_train, X_test, y_train, y_test = train_test_split(Xlable, y, test_size=0.33, random_state=42)"
   ]
  },
  {
   "cell_type": "code",
   "execution_count": 40,
   "id": "95ef1c55",
   "metadata": {
    "execution": {
     "iopub.execute_input": "2025-06-09T04:58:57.354522Z",
     "iopub.status.busy": "2025-06-09T04:58:57.353694Z",
     "iopub.status.idle": "2025-06-09T04:58:57.368711Z",
     "shell.execute_reply": "2025-06-09T04:58:57.367806Z"
    },
    "papermill": {
     "duration": 0.036668,
     "end_time": "2025-06-09T04:58:57.370356",
     "exception": false,
     "start_time": "2025-06-09T04:58:57.333688",
     "status": "completed"
    },
    "tags": []
   },
   "outputs": [],
   "source": [
    "#model2 = LinearRegression()\n",
    "#model2.fit(X_train,y_train)"
   ]
  },
  {
   "cell_type": "code",
   "execution_count": 41,
   "id": "b48b2b6d",
   "metadata": {
    "execution": {
     "iopub.execute_input": "2025-06-09T04:58:57.410378Z",
     "iopub.status.busy": "2025-06-09T04:58:57.409558Z",
     "iopub.status.idle": "2025-06-09T04:58:57.416453Z",
     "shell.execute_reply": "2025-06-09T04:58:57.415648Z"
    },
    "papermill": {
     "duration": 0.0261,
     "end_time": "2025-06-09T04:58:57.417924",
     "exception": false,
     "start_time": "2025-06-09T04:58:57.391824",
     "status": "completed"
    },
    "tags": []
   },
   "outputs": [],
   "source": [
    "#y_pred = model2.predict(X_test)"
   ]
  },
  {
   "cell_type": "code",
   "execution_count": 42,
   "id": "61880148",
   "metadata": {
    "execution": {
     "iopub.execute_input": "2025-06-09T04:58:57.457255Z",
     "iopub.status.busy": "2025-06-09T04:58:57.456866Z",
     "iopub.status.idle": "2025-06-09T04:58:57.462956Z",
     "shell.execute_reply": "2025-06-09T04:58:57.462139Z"
    },
    "papermill": {
     "duration": 0.025243,
     "end_time": "2025-06-09T04:58:57.464491",
     "exception": false,
     "start_time": "2025-06-09T04:58:57.439248",
     "status": "completed"
    },
    "tags": []
   },
   "outputs": [],
   "source": [
    "#y_pred"
   ]
  },
  {
   "cell_type": "code",
   "execution_count": 43,
   "id": "f2580285",
   "metadata": {
    "execution": {
     "iopub.execute_input": "2025-06-09T04:58:57.500234Z",
     "iopub.status.busy": "2025-06-09T04:58:57.499434Z",
     "iopub.status.idle": "2025-06-09T04:58:57.506089Z",
     "shell.execute_reply": "2025-06-09T04:58:57.505304Z"
    },
    "papermill": {
     "duration": 0.025785,
     "end_time": "2025-06-09T04:58:57.507446",
     "exception": false,
     "start_time": "2025-06-09T04:58:57.481661",
     "status": "completed"
    },
    "tags": []
   },
   "outputs": [],
   "source": [
    "#y_test"
   ]
  },
  {
   "cell_type": "code",
   "execution_count": 44,
   "id": "d9bd8c68",
   "metadata": {
    "execution": {
     "iopub.execute_input": "2025-06-09T04:58:57.541072Z",
     "iopub.status.busy": "2025-06-09T04:58:57.540634Z",
     "iopub.status.idle": "2025-06-09T04:58:57.547682Z",
     "shell.execute_reply": "2025-06-09T04:58:57.546890Z"
    },
    "papermill": {
     "duration": 0.025266,
     "end_time": "2025-06-09T04:58:57.548969",
     "exception": false,
     "start_time": "2025-06-09T04:58:57.523703",
     "status": "completed"
    },
    "tags": []
   },
   "outputs": [],
   "source": [
    "#r2 = r2_score(y_test,y_pred)\n",
    "#r2"
   ]
  },
  {
   "cell_type": "code",
   "execution_count": 45,
   "id": "607ffa0c",
   "metadata": {},
   "outputs": [],
   "source": [
    "X_one_encode_1 = pd.get_dummies(X,columns = ['model','transmission','fuelType'],drop_first = True)"
   ]
  },
  {
   "cell_type": "code",
   "execution_count": 46,
   "id": "365174fc",
   "metadata": {},
   "outputs": [],
   "source": [
    "X_one_encode_1 = X_one_encode_1.astype(int)"
   ]
  },
  {
   "cell_type": "code",
   "execution_count": 47,
   "id": "b5f239a8",
   "metadata": {},
   "outputs": [
    {
     "data": {
      "text/html": [
       "<div>\n",
       "<style scoped>\n",
       "    .dataframe tbody tr th:only-of-type {\n",
       "        vertical-align: middle;\n",
       "    }\n",
       "\n",
       "    .dataframe tbody tr th {\n",
       "        vertical-align: top;\n",
       "    }\n",
       "\n",
       "    .dataframe thead th {\n",
       "        text-align: right;\n",
       "    }\n",
       "</style>\n",
       "<table border=\"1\" class=\"dataframe\">\n",
       "  <thead>\n",
       "    <tr style=\"text-align: right;\">\n",
       "      <th></th>\n",
       "      <th>year</th>\n",
       "      <th>mileage</th>\n",
       "      <th>tax</th>\n",
       "      <th>mpg</th>\n",
       "      <th>engineSize</th>\n",
       "      <th>model_ C-MAX</th>\n",
       "      <th>model_ EcoSport</th>\n",
       "      <th>model_ Edge</th>\n",
       "      <th>model_ Escort</th>\n",
       "      <th>model_ Fiesta</th>\n",
       "      <th>...</th>\n",
       "      <th>model_ Tourneo Connect</th>\n",
       "      <th>model_ Tourneo Custom</th>\n",
       "      <th>model_ Transit Tourneo</th>\n",
       "      <th>model_Focus</th>\n",
       "      <th>transmission_Manual</th>\n",
       "      <th>transmission_Semi-Auto</th>\n",
       "      <th>fuelType_Electric</th>\n",
       "      <th>fuelType_Hybrid</th>\n",
       "      <th>fuelType_Other</th>\n",
       "      <th>fuelType_Petrol</th>\n",
       "    </tr>\n",
       "  </thead>\n",
       "  <tbody>\n",
       "    <tr>\n",
       "      <th>0</th>\n",
       "      <td>2017</td>\n",
       "      <td>15944</td>\n",
       "      <td>150</td>\n",
       "      <td>57</td>\n",
       "      <td>1</td>\n",
       "      <td>0</td>\n",
       "      <td>0</td>\n",
       "      <td>0</td>\n",
       "      <td>0</td>\n",
       "      <td>1</td>\n",
       "      <td>...</td>\n",
       "      <td>0</td>\n",
       "      <td>0</td>\n",
       "      <td>0</td>\n",
       "      <td>0</td>\n",
       "      <td>0</td>\n",
       "      <td>0</td>\n",
       "      <td>0</td>\n",
       "      <td>0</td>\n",
       "      <td>0</td>\n",
       "      <td>1</td>\n",
       "    </tr>\n",
       "    <tr>\n",
       "      <th>1</th>\n",
       "      <td>2018</td>\n",
       "      <td>9083</td>\n",
       "      <td>150</td>\n",
       "      <td>57</td>\n",
       "      <td>1</td>\n",
       "      <td>0</td>\n",
       "      <td>0</td>\n",
       "      <td>0</td>\n",
       "      <td>0</td>\n",
       "      <td>0</td>\n",
       "      <td>...</td>\n",
       "      <td>0</td>\n",
       "      <td>0</td>\n",
       "      <td>0</td>\n",
       "      <td>0</td>\n",
       "      <td>1</td>\n",
       "      <td>0</td>\n",
       "      <td>0</td>\n",
       "      <td>0</td>\n",
       "      <td>0</td>\n",
       "      <td>1</td>\n",
       "    </tr>\n",
       "    <tr>\n",
       "      <th>2</th>\n",
       "      <td>2017</td>\n",
       "      <td>12456</td>\n",
       "      <td>150</td>\n",
       "      <td>57</td>\n",
       "      <td>1</td>\n",
       "      <td>0</td>\n",
       "      <td>0</td>\n",
       "      <td>0</td>\n",
       "      <td>0</td>\n",
       "      <td>0</td>\n",
       "      <td>...</td>\n",
       "      <td>0</td>\n",
       "      <td>0</td>\n",
       "      <td>0</td>\n",
       "      <td>0</td>\n",
       "      <td>1</td>\n",
       "      <td>0</td>\n",
       "      <td>0</td>\n",
       "      <td>0</td>\n",
       "      <td>0</td>\n",
       "      <td>1</td>\n",
       "    </tr>\n",
       "    <tr>\n",
       "      <th>3</th>\n",
       "      <td>2019</td>\n",
       "      <td>10460</td>\n",
       "      <td>145</td>\n",
       "      <td>40</td>\n",
       "      <td>1</td>\n",
       "      <td>0</td>\n",
       "      <td>0</td>\n",
       "      <td>0</td>\n",
       "      <td>0</td>\n",
       "      <td>1</td>\n",
       "      <td>...</td>\n",
       "      <td>0</td>\n",
       "      <td>0</td>\n",
       "      <td>0</td>\n",
       "      <td>0</td>\n",
       "      <td>1</td>\n",
       "      <td>0</td>\n",
       "      <td>0</td>\n",
       "      <td>0</td>\n",
       "      <td>0</td>\n",
       "      <td>1</td>\n",
       "    </tr>\n",
       "    <tr>\n",
       "      <th>4</th>\n",
       "      <td>2019</td>\n",
       "      <td>1482</td>\n",
       "      <td>145</td>\n",
       "      <td>48</td>\n",
       "      <td>1</td>\n",
       "      <td>0</td>\n",
       "      <td>0</td>\n",
       "      <td>0</td>\n",
       "      <td>0</td>\n",
       "      <td>1</td>\n",
       "      <td>...</td>\n",
       "      <td>0</td>\n",
       "      <td>0</td>\n",
       "      <td>0</td>\n",
       "      <td>0</td>\n",
       "      <td>0</td>\n",
       "      <td>0</td>\n",
       "      <td>0</td>\n",
       "      <td>0</td>\n",
       "      <td>0</td>\n",
       "      <td>1</td>\n",
       "    </tr>\n",
       "    <tr>\n",
       "      <th>...</th>\n",
       "      <td>...</td>\n",
       "      <td>...</td>\n",
       "      <td>...</td>\n",
       "      <td>...</td>\n",
       "      <td>...</td>\n",
       "      <td>...</td>\n",
       "      <td>...</td>\n",
       "      <td>...</td>\n",
       "      <td>...</td>\n",
       "      <td>...</td>\n",
       "      <td>...</td>\n",
       "      <td>...</td>\n",
       "      <td>...</td>\n",
       "      <td>...</td>\n",
       "      <td>...</td>\n",
       "      <td>...</td>\n",
       "      <td>...</td>\n",
       "      <td>...</td>\n",
       "      <td>...</td>\n",
       "      <td>...</td>\n",
       "      <td>...</td>\n",
       "    </tr>\n",
       "    <tr>\n",
       "      <th>17961</th>\n",
       "      <td>2017</td>\n",
       "      <td>16700</td>\n",
       "      <td>150</td>\n",
       "      <td>47</td>\n",
       "      <td>1</td>\n",
       "      <td>0</td>\n",
       "      <td>0</td>\n",
       "      <td>0</td>\n",
       "      <td>0</td>\n",
       "      <td>0</td>\n",
       "      <td>...</td>\n",
       "      <td>0</td>\n",
       "      <td>0</td>\n",
       "      <td>0</td>\n",
       "      <td>0</td>\n",
       "      <td>1</td>\n",
       "      <td>0</td>\n",
       "      <td>0</td>\n",
       "      <td>0</td>\n",
       "      <td>0</td>\n",
       "      <td>1</td>\n",
       "    </tr>\n",
       "    <tr>\n",
       "      <th>17962</th>\n",
       "      <td>2014</td>\n",
       "      <td>40700</td>\n",
       "      <td>30</td>\n",
       "      <td>57</td>\n",
       "      <td>1</td>\n",
       "      <td>0</td>\n",
       "      <td>0</td>\n",
       "      <td>0</td>\n",
       "      <td>0</td>\n",
       "      <td>0</td>\n",
       "      <td>...</td>\n",
       "      <td>0</td>\n",
       "      <td>0</td>\n",
       "      <td>0</td>\n",
       "      <td>0</td>\n",
       "      <td>1</td>\n",
       "      <td>0</td>\n",
       "      <td>0</td>\n",
       "      <td>0</td>\n",
       "      <td>0</td>\n",
       "      <td>1</td>\n",
       "    </tr>\n",
       "    <tr>\n",
       "      <th>17963</th>\n",
       "      <td>2015</td>\n",
       "      <td>7010</td>\n",
       "      <td>20</td>\n",
       "      <td>67</td>\n",
       "      <td>1</td>\n",
       "      <td>0</td>\n",
       "      <td>0</td>\n",
       "      <td>0</td>\n",
       "      <td>0</td>\n",
       "      <td>0</td>\n",
       "      <td>...</td>\n",
       "      <td>0</td>\n",
       "      <td>0</td>\n",
       "      <td>0</td>\n",
       "      <td>0</td>\n",
       "      <td>1</td>\n",
       "      <td>0</td>\n",
       "      <td>0</td>\n",
       "      <td>0</td>\n",
       "      <td>0</td>\n",
       "      <td>0</td>\n",
       "    </tr>\n",
       "    <tr>\n",
       "      <th>17964</th>\n",
       "      <td>2018</td>\n",
       "      <td>5007</td>\n",
       "      <td>145</td>\n",
       "      <td>57</td>\n",
       "      <td>1</td>\n",
       "      <td>0</td>\n",
       "      <td>0</td>\n",
       "      <td>0</td>\n",
       "      <td>0</td>\n",
       "      <td>0</td>\n",
       "      <td>...</td>\n",
       "      <td>0</td>\n",
       "      <td>0</td>\n",
       "      <td>0</td>\n",
       "      <td>0</td>\n",
       "      <td>1</td>\n",
       "      <td>0</td>\n",
       "      <td>0</td>\n",
       "      <td>0</td>\n",
       "      <td>0</td>\n",
       "      <td>1</td>\n",
       "    </tr>\n",
       "    <tr>\n",
       "      <th>17965</th>\n",
       "      <td>2015</td>\n",
       "      <td>5007</td>\n",
       "      <td>22</td>\n",
       "      <td>57</td>\n",
       "      <td>1</td>\n",
       "      <td>0</td>\n",
       "      <td>0</td>\n",
       "      <td>0</td>\n",
       "      <td>0</td>\n",
       "      <td>0</td>\n",
       "      <td>...</td>\n",
       "      <td>0</td>\n",
       "      <td>0</td>\n",
       "      <td>0</td>\n",
       "      <td>1</td>\n",
       "      <td>1</td>\n",
       "      <td>0</td>\n",
       "      <td>0</td>\n",
       "      <td>0</td>\n",
       "      <td>0</td>\n",
       "      <td>1</td>\n",
       "    </tr>\n",
       "  </tbody>\n",
       "</table>\n",
       "<p>17966 rows × 34 columns</p>\n",
       "</div>"
      ],
      "text/plain": [
       "       year  mileage  tax  mpg  engineSize  model_ C-MAX  model_ EcoSport  \\\n",
       "0      2017    15944  150   57           1             0                0   \n",
       "1      2018     9083  150   57           1             0                0   \n",
       "2      2017    12456  150   57           1             0                0   \n",
       "3      2019    10460  145   40           1             0                0   \n",
       "4      2019     1482  145   48           1             0                0   \n",
       "...     ...      ...  ...  ...         ...           ...              ...   \n",
       "17961  2017    16700  150   47           1             0                0   \n",
       "17962  2014    40700   30   57           1             0                0   \n",
       "17963  2015     7010   20   67           1             0                0   \n",
       "17964  2018     5007  145   57           1             0                0   \n",
       "17965  2015     5007   22   57           1             0                0   \n",
       "\n",
       "       model_ Edge  model_ Escort  model_ Fiesta  ...  model_ Tourneo Connect  \\\n",
       "0                0              0              1  ...                       0   \n",
       "1                0              0              0  ...                       0   \n",
       "2                0              0              0  ...                       0   \n",
       "3                0              0              1  ...                       0   \n",
       "4                0              0              1  ...                       0   \n",
       "...            ...            ...            ...  ...                     ...   \n",
       "17961            0              0              0  ...                       0   \n",
       "17962            0              0              0  ...                       0   \n",
       "17963            0              0              0  ...                       0   \n",
       "17964            0              0              0  ...                       0   \n",
       "17965            0              0              0  ...                       0   \n",
       "\n",
       "       model_ Tourneo Custom  model_ Transit Tourneo  model_Focus  \\\n",
       "0                          0                       0            0   \n",
       "1                          0                       0            0   \n",
       "2                          0                       0            0   \n",
       "3                          0                       0            0   \n",
       "4                          0                       0            0   \n",
       "...                      ...                     ...          ...   \n",
       "17961                      0                       0            0   \n",
       "17962                      0                       0            0   \n",
       "17963                      0                       0            0   \n",
       "17964                      0                       0            0   \n",
       "17965                      0                       0            1   \n",
       "\n",
       "       transmission_Manual  transmission_Semi-Auto  fuelType_Electric  \\\n",
       "0                        0                       0                  0   \n",
       "1                        1                       0                  0   \n",
       "2                        1                       0                  0   \n",
       "3                        1                       0                  0   \n",
       "4                        0                       0                  0   \n",
       "...                    ...                     ...                ...   \n",
       "17961                    1                       0                  0   \n",
       "17962                    1                       0                  0   \n",
       "17963                    1                       0                  0   \n",
       "17964                    1                       0                  0   \n",
       "17965                    1                       0                  0   \n",
       "\n",
       "       fuelType_Hybrid  fuelType_Other  fuelType_Petrol  \n",
       "0                    0               0                1  \n",
       "1                    0               0                1  \n",
       "2                    0               0                1  \n",
       "3                    0               0                1  \n",
       "4                    0               0                1  \n",
       "...                ...             ...              ...  \n",
       "17961                0               0                1  \n",
       "17962                0               0                1  \n",
       "17963                0               0                0  \n",
       "17964                0               0                1  \n",
       "17965                0               0                1  \n",
       "\n",
       "[17966 rows x 34 columns]"
      ]
     },
     "execution_count": 47,
     "metadata": {},
     "output_type": "execute_result"
    }
   ],
   "source": [
    "X_one_encode_1"
   ]
  },
  {
   "cell_type": "code",
   "execution_count": 48,
   "id": "0ef0cca6",
   "metadata": {},
   "outputs": [],
   "source": [
    "from sklearn.preprocessing import LabelEncoder\n",
    "\n",
    "columns = ['model', 'transmission', 'fuelType']\n",
    "\n",
    "Xlable_1 = X.copy()  \n",
    "label_encoders = {}\n",
    "\n",
    "for col in columns:\n",
    "    le = LabelEncoder()\n",
    "    Xlable_1[col] = le.fit_transform(Xlable_1[col].astype(str))  \n",
    "    label_encoders[col] = le"
   ]
  },
  {
   "cell_type": "code",
   "execution_count": 49,
   "id": "cc193974",
   "metadata": {},
   "outputs": [
    {
     "data": {
      "text/html": [
       "<div>\n",
       "<style scoped>\n",
       "    .dataframe tbody tr th:only-of-type {\n",
       "        vertical-align: middle;\n",
       "    }\n",
       "\n",
       "    .dataframe tbody tr th {\n",
       "        vertical-align: top;\n",
       "    }\n",
       "\n",
       "    .dataframe thead th {\n",
       "        text-align: right;\n",
       "    }\n",
       "</style>\n",
       "<table border=\"1\" class=\"dataframe\">\n",
       "  <thead>\n",
       "    <tr style=\"text-align: right;\">\n",
       "      <th></th>\n",
       "      <th>model</th>\n",
       "      <th>year</th>\n",
       "      <th>transmission</th>\n",
       "      <th>mileage</th>\n",
       "      <th>fuelType</th>\n",
       "      <th>tax</th>\n",
       "      <th>mpg</th>\n",
       "      <th>engineSize</th>\n",
       "    </tr>\n",
       "  </thead>\n",
       "  <tbody>\n",
       "    <tr>\n",
       "      <th>0</th>\n",
       "      <td>5</td>\n",
       "      <td>2017</td>\n",
       "      <td>0</td>\n",
       "      <td>15944</td>\n",
       "      <td>4</td>\n",
       "      <td>150</td>\n",
       "      <td>57.7</td>\n",
       "      <td>1.0</td>\n",
       "    </tr>\n",
       "    <tr>\n",
       "      <th>1</th>\n",
       "      <td>6</td>\n",
       "      <td>2018</td>\n",
       "      <td>1</td>\n",
       "      <td>9083</td>\n",
       "      <td>4</td>\n",
       "      <td>150</td>\n",
       "      <td>57.7</td>\n",
       "      <td>1.0</td>\n",
       "    </tr>\n",
       "    <tr>\n",
       "      <th>2</th>\n",
       "      <td>6</td>\n",
       "      <td>2017</td>\n",
       "      <td>1</td>\n",
       "      <td>12456</td>\n",
       "      <td>4</td>\n",
       "      <td>150</td>\n",
       "      <td>57.7</td>\n",
       "      <td>1.0</td>\n",
       "    </tr>\n",
       "    <tr>\n",
       "      <th>3</th>\n",
       "      <td>5</td>\n",
       "      <td>2019</td>\n",
       "      <td>1</td>\n",
       "      <td>10460</td>\n",
       "      <td>4</td>\n",
       "      <td>145</td>\n",
       "      <td>40.3</td>\n",
       "      <td>1.5</td>\n",
       "    </tr>\n",
       "    <tr>\n",
       "      <th>4</th>\n",
       "      <td>5</td>\n",
       "      <td>2019</td>\n",
       "      <td>0</td>\n",
       "      <td>1482</td>\n",
       "      <td>4</td>\n",
       "      <td>145</td>\n",
       "      <td>48.7</td>\n",
       "      <td>1.0</td>\n",
       "    </tr>\n",
       "    <tr>\n",
       "      <th>...</th>\n",
       "      <td>...</td>\n",
       "      <td>...</td>\n",
       "      <td>...</td>\n",
       "      <td>...</td>\n",
       "      <td>...</td>\n",
       "      <td>...</td>\n",
       "      <td>...</td>\n",
       "      <td>...</td>\n",
       "    </tr>\n",
       "    <tr>\n",
       "      <th>17961</th>\n",
       "      <td>0</td>\n",
       "      <td>2017</td>\n",
       "      <td>1</td>\n",
       "      <td>16700</td>\n",
       "      <td>4</td>\n",
       "      <td>150</td>\n",
       "      <td>47.1</td>\n",
       "      <td>1.4</td>\n",
       "    </tr>\n",
       "    <tr>\n",
       "      <th>17962</th>\n",
       "      <td>0</td>\n",
       "      <td>2014</td>\n",
       "      <td>1</td>\n",
       "      <td>40700</td>\n",
       "      <td>4</td>\n",
       "      <td>30</td>\n",
       "      <td>57.7</td>\n",
       "      <td>1.0</td>\n",
       "    </tr>\n",
       "    <tr>\n",
       "      <th>17963</th>\n",
       "      <td>6</td>\n",
       "      <td>2015</td>\n",
       "      <td>1</td>\n",
       "      <td>7010</td>\n",
       "      <td>0</td>\n",
       "      <td>20</td>\n",
       "      <td>67.3</td>\n",
       "      <td>1.6</td>\n",
       "    </tr>\n",
       "    <tr>\n",
       "      <th>17964</th>\n",
       "      <td>11</td>\n",
       "      <td>2018</td>\n",
       "      <td>1</td>\n",
       "      <td>5007</td>\n",
       "      <td>4</td>\n",
       "      <td>145</td>\n",
       "      <td>57.7</td>\n",
       "      <td>1.2</td>\n",
       "    </tr>\n",
       "    <tr>\n",
       "      <th>17965</th>\n",
       "      <td>23</td>\n",
       "      <td>2015</td>\n",
       "      <td>1</td>\n",
       "      <td>5007</td>\n",
       "      <td>4</td>\n",
       "      <td>22</td>\n",
       "      <td>57.7</td>\n",
       "      <td>1.0</td>\n",
       "    </tr>\n",
       "  </tbody>\n",
       "</table>\n",
       "<p>17966 rows × 8 columns</p>\n",
       "</div>"
      ],
      "text/plain": [
       "       model  year  transmission  mileage  fuelType  tax   mpg  engineSize\n",
       "0          5  2017             0    15944         4  150  57.7         1.0\n",
       "1          6  2018             1     9083         4  150  57.7         1.0\n",
       "2          6  2017             1    12456         4  150  57.7         1.0\n",
       "3          5  2019             1    10460         4  145  40.3         1.5\n",
       "4          5  2019             0     1482         4  145  48.7         1.0\n",
       "...      ...   ...           ...      ...       ...  ...   ...         ...\n",
       "17961      0  2017             1    16700         4  150  47.1         1.4\n",
       "17962      0  2014             1    40700         4   30  57.7         1.0\n",
       "17963      6  2015             1     7010         0   20  67.3         1.6\n",
       "17964     11  2018             1     5007         4  145  57.7         1.2\n",
       "17965     23  2015             1     5007         4   22  57.7         1.0\n",
       "\n",
       "[17966 rows x 8 columns]"
      ]
     },
     "execution_count": 49,
     "metadata": {},
     "output_type": "execute_result"
    }
   ],
   "source": [
    "Xlable_1"
   ]
  },
  {
   "cell_type": "code",
   "execution_count": 50,
   "id": "ec90731e",
   "metadata": {},
   "outputs": [],
   "source": [
    "X_train, X_test, y_train, y_test = train_test_split(X_one_encode_1, y, test_size=0.33, random_state=42)"
   ]
  },
  {
   "cell_type": "code",
   "execution_count": 51,
   "id": "3aee1178",
   "metadata": {
    "papermill": {
     "duration": 0.016195,
     "end_time": "2025-06-09T04:58:57.582510",
     "exception": false,
     "start_time": "2025-06-09T04:58:57.566315",
     "status": "completed"
    },
    "tags": []
   },
   "outputs": [
    {
     "data": {
      "text/html": [
       "<style>#sk-container-id-1 {color: black;}#sk-container-id-1 pre{padding: 0;}#sk-container-id-1 div.sk-toggleable {background-color: white;}#sk-container-id-1 label.sk-toggleable__label {cursor: pointer;display: block;width: 100%;margin-bottom: 0;padding: 0.3em;box-sizing: border-box;text-align: center;}#sk-container-id-1 label.sk-toggleable__label-arrow:before {content: \"▸\";float: left;margin-right: 0.25em;color: #696969;}#sk-container-id-1 label.sk-toggleable__label-arrow:hover:before {color: black;}#sk-container-id-1 div.sk-estimator:hover label.sk-toggleable__label-arrow:before {color: black;}#sk-container-id-1 div.sk-toggleable__content {max-height: 0;max-width: 0;overflow: hidden;text-align: left;background-color: #f0f8ff;}#sk-container-id-1 div.sk-toggleable__content pre {margin: 0.2em;color: black;border-radius: 0.25em;background-color: #f0f8ff;}#sk-container-id-1 input.sk-toggleable__control:checked~div.sk-toggleable__content {max-height: 200px;max-width: 100%;overflow: auto;}#sk-container-id-1 input.sk-toggleable__control:checked~label.sk-toggleable__label-arrow:before {content: \"▾\";}#sk-container-id-1 div.sk-estimator input.sk-toggleable__control:checked~label.sk-toggleable__label {background-color: #d4ebff;}#sk-container-id-1 div.sk-label input.sk-toggleable__control:checked~label.sk-toggleable__label {background-color: #d4ebff;}#sk-container-id-1 input.sk-hidden--visually {border: 0;clip: rect(1px 1px 1px 1px);clip: rect(1px, 1px, 1px, 1px);height: 1px;margin: -1px;overflow: hidden;padding: 0;position: absolute;width: 1px;}#sk-container-id-1 div.sk-estimator {font-family: monospace;background-color: #f0f8ff;border: 1px dotted black;border-radius: 0.25em;box-sizing: border-box;margin-bottom: 0.5em;}#sk-container-id-1 div.sk-estimator:hover {background-color: #d4ebff;}#sk-container-id-1 div.sk-parallel-item::after {content: \"\";width: 100%;border-bottom: 1px solid gray;flex-grow: 1;}#sk-container-id-1 div.sk-label:hover label.sk-toggleable__label {background-color: #d4ebff;}#sk-container-id-1 div.sk-serial::before {content: \"\";position: absolute;border-left: 1px solid gray;box-sizing: border-box;top: 0;bottom: 0;left: 50%;z-index: 0;}#sk-container-id-1 div.sk-serial {display: flex;flex-direction: column;align-items: center;background-color: white;padding-right: 0.2em;padding-left: 0.2em;position: relative;}#sk-container-id-1 div.sk-item {position: relative;z-index: 1;}#sk-container-id-1 div.sk-parallel {display: flex;align-items: stretch;justify-content: center;background-color: white;position: relative;}#sk-container-id-1 div.sk-item::before, #sk-container-id-1 div.sk-parallel-item::before {content: \"\";position: absolute;border-left: 1px solid gray;box-sizing: border-box;top: 0;bottom: 0;left: 50%;z-index: -1;}#sk-container-id-1 div.sk-parallel-item {display: flex;flex-direction: column;z-index: 1;position: relative;background-color: white;}#sk-container-id-1 div.sk-parallel-item:first-child::after {align-self: flex-end;width: 50%;}#sk-container-id-1 div.sk-parallel-item:last-child::after {align-self: flex-start;width: 50%;}#sk-container-id-1 div.sk-parallel-item:only-child::after {width: 0;}#sk-container-id-1 div.sk-dashed-wrapped {border: 1px dashed gray;margin: 0 0.4em 0.5em 0.4em;box-sizing: border-box;padding-bottom: 0.4em;background-color: white;}#sk-container-id-1 div.sk-label label {font-family: monospace;font-weight: bold;display: inline-block;line-height: 1.2em;}#sk-container-id-1 div.sk-label-container {text-align: center;}#sk-container-id-1 div.sk-container {/* jupyter's `normalize.less` sets `[hidden] { display: none; }` but bootstrap.min.css set `[hidden] { display: none !important; }` so we also need the `!important` here to be able to override the default hidden behavior on the sphinx rendered scikit-learn.org. See: https://github.com/scikit-learn/scikit-learn/issues/21755 */display: inline-block !important;position: relative;}#sk-container-id-1 div.sk-text-repr-fallback {display: none;}</style><div id=\"sk-container-id-1\" class=\"sk-top-container\"><div class=\"sk-text-repr-fallback\"><pre>RandomForestRegressor(random_state=42)</pre><b>In a Jupyter environment, please rerun this cell to show the HTML representation or trust the notebook. <br />On GitHub, the HTML representation is unable to render, please try loading this page with nbviewer.org.</b></div><div class=\"sk-container\" hidden><div class=\"sk-item\"><div class=\"sk-estimator sk-toggleable\"><input class=\"sk-toggleable__control sk-hidden--visually\" id=\"sk-estimator-id-1\" type=\"checkbox\" checked><label for=\"sk-estimator-id-1\" class=\"sk-toggleable__label sk-toggleable__label-arrow\">RandomForestRegressor</label><div class=\"sk-toggleable__content\"><pre>RandomForestRegressor(random_state=42)</pre></div></div></div></div></div>"
      ],
      "text/plain": [
       "RandomForestRegressor(random_state=42)"
      ]
     },
     "execution_count": 51,
     "metadata": {},
     "output_type": "execute_result"
    }
   ],
   "source": [
    "from sklearn.ensemble import RandomForestRegressor\n",
    "\n",
    "rf=RandomForestRegressor(n_estimators=100,random_state=42)\n",
    "\n",
    "rf.fit(X_train,y_train)"
   ]
  },
  {
   "cell_type": "code",
   "execution_count": 52,
   "id": "ba5836a8",
   "metadata": {},
   "outputs": [],
   "source": [
    "y_pred = rf.predict(X_test)"
   ]
  },
  {
   "cell_type": "code",
   "execution_count": 53,
   "id": "3ce25acb",
   "metadata": {},
   "outputs": [
    {
     "data": {
      "text/plain": [
       "array([ 8007.64,  8137.8 ,  8163.6 , ..., 21224.01,  5600.69,  9885.04])"
      ]
     },
     "execution_count": 53,
     "metadata": {},
     "output_type": "execute_result"
    }
   ],
   "source": [
    "y_pred"
   ]
  },
  {
   "cell_type": "code",
   "execution_count": 54,
   "id": "e4bf8cb6",
   "metadata": {},
   "outputs": [
    {
     "data": {
      "text/plain": [
       "17610     6995\n",
       "7076      8999\n",
       "1713      7998\n",
       "1611      5491\n",
       "16830     3790\n",
       "         ...  \n",
       "6015     19000\n",
       "10301    10940\n",
       "15006    21999\n",
       "5396      6995\n",
       "6087     10299\n",
       "Name: price, Length: 5929, dtype: int64"
      ]
     },
     "execution_count": 54,
     "metadata": {},
     "output_type": "execute_result"
    }
   ],
   "source": [
    "y_test"
   ]
  },
  {
   "cell_type": "code",
   "execution_count": 55,
   "id": "d81efda9",
   "metadata": {},
   "outputs": [
    {
     "data": {
      "text/plain": [
       "0.9175713917092936"
      ]
     },
     "execution_count": 55,
     "metadata": {},
     "output_type": "execute_result"
    }
   ],
   "source": [
    "r2 = r2_score(y_test,y_pred)\n",
    "r2"
   ]
  },
  {
   "cell_type": "code",
   "execution_count": 56,
   "id": "26236d99",
   "metadata": {},
   "outputs": [
    {
     "name": "stdout",
     "output_type": "stream",
     "text": [
      "Adjusted R² Score: 0.917095895835204\n"
     ]
    }
   ],
   "source": [
    "n = X_test.shape[0]\n",
    "p = X_test.shape[1]\n",
    "adjusted_r2 = 1 - ((1 - r2) * (n - 1)) / (n - p - 1)\n",
    "print(\"Adjusted R² Score:\", adjusted_r2)"
   ]
  },
  {
   "cell_type": "code",
   "execution_count": 58,
   "id": "7bc1ec98",
   "metadata": {},
   "outputs": [],
   "source": [
    "X_train, X_test, y_train, y_test = train_test_split(Xlable_1, y, test_size=0.33, random_state=42)"
   ]
  },
  {
   "cell_type": "code",
   "execution_count": 59,
   "id": "b5041918",
   "metadata": {},
   "outputs": [
    {
     "data": {
      "text/html": [
       "<style>#sk-container-id-2 {color: black;}#sk-container-id-2 pre{padding: 0;}#sk-container-id-2 div.sk-toggleable {background-color: white;}#sk-container-id-2 label.sk-toggleable__label {cursor: pointer;display: block;width: 100%;margin-bottom: 0;padding: 0.3em;box-sizing: border-box;text-align: center;}#sk-container-id-2 label.sk-toggleable__label-arrow:before {content: \"▸\";float: left;margin-right: 0.25em;color: #696969;}#sk-container-id-2 label.sk-toggleable__label-arrow:hover:before {color: black;}#sk-container-id-2 div.sk-estimator:hover label.sk-toggleable__label-arrow:before {color: black;}#sk-container-id-2 div.sk-toggleable__content {max-height: 0;max-width: 0;overflow: hidden;text-align: left;background-color: #f0f8ff;}#sk-container-id-2 div.sk-toggleable__content pre {margin: 0.2em;color: black;border-radius: 0.25em;background-color: #f0f8ff;}#sk-container-id-2 input.sk-toggleable__control:checked~div.sk-toggleable__content {max-height: 200px;max-width: 100%;overflow: auto;}#sk-container-id-2 input.sk-toggleable__control:checked~label.sk-toggleable__label-arrow:before {content: \"▾\";}#sk-container-id-2 div.sk-estimator input.sk-toggleable__control:checked~label.sk-toggleable__label {background-color: #d4ebff;}#sk-container-id-2 div.sk-label input.sk-toggleable__control:checked~label.sk-toggleable__label {background-color: #d4ebff;}#sk-container-id-2 input.sk-hidden--visually {border: 0;clip: rect(1px 1px 1px 1px);clip: rect(1px, 1px, 1px, 1px);height: 1px;margin: -1px;overflow: hidden;padding: 0;position: absolute;width: 1px;}#sk-container-id-2 div.sk-estimator {font-family: monospace;background-color: #f0f8ff;border: 1px dotted black;border-radius: 0.25em;box-sizing: border-box;margin-bottom: 0.5em;}#sk-container-id-2 div.sk-estimator:hover {background-color: #d4ebff;}#sk-container-id-2 div.sk-parallel-item::after {content: \"\";width: 100%;border-bottom: 1px solid gray;flex-grow: 1;}#sk-container-id-2 div.sk-label:hover label.sk-toggleable__label {background-color: #d4ebff;}#sk-container-id-2 div.sk-serial::before {content: \"\";position: absolute;border-left: 1px solid gray;box-sizing: border-box;top: 0;bottom: 0;left: 50%;z-index: 0;}#sk-container-id-2 div.sk-serial {display: flex;flex-direction: column;align-items: center;background-color: white;padding-right: 0.2em;padding-left: 0.2em;position: relative;}#sk-container-id-2 div.sk-item {position: relative;z-index: 1;}#sk-container-id-2 div.sk-parallel {display: flex;align-items: stretch;justify-content: center;background-color: white;position: relative;}#sk-container-id-2 div.sk-item::before, #sk-container-id-2 div.sk-parallel-item::before {content: \"\";position: absolute;border-left: 1px solid gray;box-sizing: border-box;top: 0;bottom: 0;left: 50%;z-index: -1;}#sk-container-id-2 div.sk-parallel-item {display: flex;flex-direction: column;z-index: 1;position: relative;background-color: white;}#sk-container-id-2 div.sk-parallel-item:first-child::after {align-self: flex-end;width: 50%;}#sk-container-id-2 div.sk-parallel-item:last-child::after {align-self: flex-start;width: 50%;}#sk-container-id-2 div.sk-parallel-item:only-child::after {width: 0;}#sk-container-id-2 div.sk-dashed-wrapped {border: 1px dashed gray;margin: 0 0.4em 0.5em 0.4em;box-sizing: border-box;padding-bottom: 0.4em;background-color: white;}#sk-container-id-2 div.sk-label label {font-family: monospace;font-weight: bold;display: inline-block;line-height: 1.2em;}#sk-container-id-2 div.sk-label-container {text-align: center;}#sk-container-id-2 div.sk-container {/* jupyter's `normalize.less` sets `[hidden] { display: none; }` but bootstrap.min.css set `[hidden] { display: none !important; }` so we also need the `!important` here to be able to override the default hidden behavior on the sphinx rendered scikit-learn.org. See: https://github.com/scikit-learn/scikit-learn/issues/21755 */display: inline-block !important;position: relative;}#sk-container-id-2 div.sk-text-repr-fallback {display: none;}</style><div id=\"sk-container-id-2\" class=\"sk-top-container\"><div class=\"sk-text-repr-fallback\"><pre>RandomForestRegressor(random_state=42)</pre><b>In a Jupyter environment, please rerun this cell to show the HTML representation or trust the notebook. <br />On GitHub, the HTML representation is unable to render, please try loading this page with nbviewer.org.</b></div><div class=\"sk-container\" hidden><div class=\"sk-item\"><div class=\"sk-estimator sk-toggleable\"><input class=\"sk-toggleable__control sk-hidden--visually\" id=\"sk-estimator-id-2\" type=\"checkbox\" checked><label for=\"sk-estimator-id-2\" class=\"sk-toggleable__label sk-toggleable__label-arrow\">RandomForestRegressor</label><div class=\"sk-toggleable__content\"><pre>RandomForestRegressor(random_state=42)</pre></div></div></div></div></div>"
      ],
      "text/plain": [
       "RandomForestRegressor(random_state=42)"
      ]
     },
     "execution_count": 59,
     "metadata": {},
     "output_type": "execute_result"
    }
   ],
   "source": [
    "rf_2=RandomForestRegressor(n_estimators=100,random_state=42)\n",
    "\n",
    "rf_2.fit(X_train,y_train)"
   ]
  },
  {
   "cell_type": "code",
   "execution_count": 60,
   "id": "a80b2451",
   "metadata": {},
   "outputs": [],
   "source": [
    "y_pred = rf_2.predict(X_test)"
   ]
  },
  {
   "cell_type": "code",
   "execution_count": 61,
   "id": "54111bae",
   "metadata": {},
   "outputs": [
    {
     "data": {
      "text/plain": [
       "array([ 7993.93,  8137.18,  8208.29, ..., 21383.74,  5624.79,  9926.85])"
      ]
     },
     "execution_count": 61,
     "metadata": {},
     "output_type": "execute_result"
    }
   ],
   "source": [
    "y_pred"
   ]
  },
  {
   "cell_type": "code",
   "execution_count": 62,
   "id": "891b1abd",
   "metadata": {},
   "outputs": [
    {
     "data": {
      "text/plain": [
       "17610     6995\n",
       "7076      8999\n",
       "1713      7998\n",
       "1611      5491\n",
       "16830     3790\n",
       "         ...  \n",
       "6015     19000\n",
       "10301    10940\n",
       "15006    21999\n",
       "5396      6995\n",
       "6087     10299\n",
       "Name: price, Length: 5929, dtype: int64"
      ]
     },
     "execution_count": 62,
     "metadata": {},
     "output_type": "execute_result"
    }
   ],
   "source": [
    "y_test"
   ]
  },
  {
   "cell_type": "code",
   "execution_count": 63,
   "id": "2cd3a438",
   "metadata": {},
   "outputs": [
    {
     "data": {
      "text/plain": [
       "0.9208989214728456"
      ]
     },
     "execution_count": 63,
     "metadata": {},
     "output_type": "execute_result"
    }
   ],
   "source": [
    "r2 = r2_score(y_test,y_pred)\n",
    "r2"
   ]
  },
  {
   "cell_type": "code",
   "execution_count": 64,
   "id": "679d8ade",
   "metadata": {},
   "outputs": [
    {
     "name": "stdout",
     "output_type": "stream",
     "text": [
      "Adjusted R² Score: 0.9207920281234846\n"
     ]
    }
   ],
   "source": [
    "n = X_test.shape[0]\n",
    "p = X_test.shape[1]\n",
    "adjusted_r2 = 1 - ((1 - r2) * (n - 1)) / (n - p - 1)\n",
    "print(\"Adjusted R² Score:\", adjusted_r2)"
   ]
  },
  {
   "cell_type": "code",
   "execution_count": null,
   "id": "abde5bc6",
   "metadata": {},
   "outputs": [],
   "source": [
    "kumar jangid k"
   ]
  }
 ],
 "metadata": {
  "kaggle": {
   "accelerator": "none",
   "dataSources": [
    {
     "datasetId": 2073626,
     "sourceId": 3442322,
     "sourceType": "datasetVersion"
    }
   ],
   "dockerImageVersionId": 31040,
   "isGpuEnabled": false,
   "isInternetEnabled": true,
   "language": "python",
   "sourceType": "notebook"
  },
  "kernelspec": {
   "display_name": "Python 3 (ipykernel)",
   "language": "python",
   "name": "python3"
  },
  "language_info": {
   "codemirror_mode": {
    "name": "ipython",
    "version": 3
   },
   "file_extension": ".py",
   "mimetype": "text/x-python",
   "name": "python",
   "nbconvert_exporter": "python",
   "pygments_lexer": "ipython3",
   "version": "3.13.5"
  },
  "papermill": {
   "default_parameters": {},
   "duration": 13.954877,
   "end_time": "2025-06-09T04:58:58.319459",
   "environment_variables": {},
   "exception": null,
   "input_path": "__notebook__.ipynb",
   "output_path": "__notebook__.ipynb",
   "parameters": {},
   "start_time": "2025-06-09T04:58:44.364582",
   "version": "2.6.0"
  }
 },
 "nbformat": 4,
 "nbformat_minor": 5
}
